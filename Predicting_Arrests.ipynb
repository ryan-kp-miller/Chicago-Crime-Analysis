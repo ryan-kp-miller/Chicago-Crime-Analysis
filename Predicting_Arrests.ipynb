{
 "cells": [
  {
   "cell_type": "markdown",
   "metadata": {},
   "source": [
    "# Predicting Arrests\n",
    "The main goal of the model was to accurately predict whether an arrest will be made for a crime in the city of Chicago. However, because the best I was able to achieve was only 7% higher than the baseline validation accuracy (predicting no arrest every time), it appears that the current dataset isn't the best for predicting arrests. "
   ]
  },
  {
   "cell_type": "code",
   "execution_count": 49,
   "metadata": {},
   "outputs": [],
   "source": [
    "import pandas as pd\n",
    "from sklearn.preprocessing import OneHotEncoder\n",
    "from sklearn.metrics import confusion_matrix\n",
    "from sklearn.ensemble import RandomForestClassifier\n",
    "from tensorflow import keras\n",
    "import numpy as np\n",
    "import seaborn as sns\n",
    "import matplotlib.pyplot as plt  \n",
    "\n",
    "import warnings\n",
    "warnings.filterwarnings('ignore')"
   ]
  },
  {
   "cell_type": "code",
   "execution_count": 97,
   "metadata": {},
   "outputs": [],
   "source": [
    "crimes = pd.read_csv('Data/crimes_cleaned.csv')"
   ]
  },
  {
   "cell_type": "code",
   "execution_count": 138,
   "metadata": {},
   "outputs": [],
   "source": [
    "#sorting by Date\n",
    "crimes.sort_values(by='Date', ascending=True, inplace=True)"
   ]
  },
  {
   "cell_type": "code",
   "execution_count": 139,
   "metadata": {},
   "outputs": [
    {
     "data": {
      "text/html": [
       "<div>\n",
       "<style scoped>\n",
       "    .dataframe tbody tr th:only-of-type {\n",
       "        vertical-align: middle;\n",
       "    }\n",
       "\n",
       "    .dataframe tbody tr th {\n",
       "        vertical-align: top;\n",
       "    }\n",
       "\n",
       "    .dataframe thead th {\n",
       "        text-align: right;\n",
       "    }\n",
       "</style>\n",
       "<table border=\"1\" class=\"dataframe\">\n",
       "  <thead>\n",
       "    <tr style=\"text-align: right;\">\n",
       "      <th></th>\n",
       "      <th>Date</th>\n",
       "      <th>Primary Type</th>\n",
       "      <th>Arrest</th>\n",
       "      <th>Domestic</th>\n",
       "      <th>Year</th>\n",
       "      <th>Location</th>\n",
       "      <th>Location Description</th>\n",
       "      <th>Community Area</th>\n",
       "      <th>Region</th>\n",
       "      <th>2010 Population</th>\n",
       "      <th>Month</th>\n",
       "      <th>Day of Week</th>\n",
       "      <th>Time of Day</th>\n",
       "      <th>Season</th>\n",
       "    </tr>\n",
       "  </thead>\n",
       "  <tbody>\n",
       "    <tr>\n",
       "      <th>2783830</th>\n",
       "      <td>2010-01-01 00:00:00</td>\n",
       "      <td>Crim Sexual Assault</td>\n",
       "      <td>1</td>\n",
       "      <td>True</td>\n",
       "      <td>2010</td>\n",
       "      <td>(41.871436933, -87.719700102)</td>\n",
       "      <td>Residence</td>\n",
       "      <td>East Garfield Park</td>\n",
       "      <td>West Side</td>\n",
       "      <td>20567.0</td>\n",
       "      <td>1</td>\n",
       "      <td>Friday</td>\n",
       "      <td>Night</td>\n",
       "      <td>Winter</td>\n",
       "    </tr>\n",
       "    <tr>\n",
       "      <th>1661264</th>\n",
       "      <td>2010-01-01 00:00:00</td>\n",
       "      <td>Theft</td>\n",
       "      <td>0</td>\n",
       "      <td>False</td>\n",
       "      <td>2010</td>\n",
       "      <td>(41.806527859, -87.622761468)</td>\n",
       "      <td>Residence</td>\n",
       "      <td>Grand Boulevard</td>\n",
       "      <td>South Side</td>\n",
       "      <td>21929.0</td>\n",
       "      <td>1</td>\n",
       "      <td>Friday</td>\n",
       "      <td>Night</td>\n",
       "      <td>Winter</td>\n",
       "    </tr>\n",
       "    <tr>\n",
       "      <th>2378495</th>\n",
       "      <td>2010-01-01 00:00:00</td>\n",
       "      <td>Offense Involving Children</td>\n",
       "      <td>0</td>\n",
       "      <td>False</td>\n",
       "      <td>2010</td>\n",
       "      <td>(41.709494361, -87.536487549)</td>\n",
       "      <td>Residence</td>\n",
       "      <td>East Side</td>\n",
       "      <td>Far Southeast Side</td>\n",
       "      <td>23042.0</td>\n",
       "      <td>1</td>\n",
       "      <td>Friday</td>\n",
       "      <td>Night</td>\n",
       "      <td>Winter</td>\n",
       "    </tr>\n",
       "    <tr>\n",
       "      <th>1273122</th>\n",
       "      <td>2010-01-01 00:00:00</td>\n",
       "      <td>Theft</td>\n",
       "      <td>0</td>\n",
       "      <td>False</td>\n",
       "      <td>2010</td>\n",
       "      <td>(41.745877762, -87.555213717)</td>\n",
       "      <td>Residence</td>\n",
       "      <td>South Chicago</td>\n",
       "      <td>Far Southeast Side</td>\n",
       "      <td>31198.0</td>\n",
       "      <td>1</td>\n",
       "      <td>Friday</td>\n",
       "      <td>Night</td>\n",
       "      <td>Winter</td>\n",
       "    </tr>\n",
       "    <tr>\n",
       "      <th>1652853</th>\n",
       "      <td>2010-01-01 00:00:00</td>\n",
       "      <td>Offense Involving Children</td>\n",
       "      <td>0</td>\n",
       "      <td>False</td>\n",
       "      <td>2010</td>\n",
       "      <td>(41.765794757, -87.689392862)</td>\n",
       "      <td>Residence</td>\n",
       "      <td>Chicago Lawn</td>\n",
       "      <td>Southwest Side</td>\n",
       "      <td>55628.0</td>\n",
       "      <td>1</td>\n",
       "      <td>Friday</td>\n",
       "      <td>Night</td>\n",
       "      <td>Winter</td>\n",
       "    </tr>\n",
       "  </tbody>\n",
       "</table>\n",
       "</div>"
      ],
      "text/plain": [
       "                        Date                Primary Type  Arrest  Domestic  \\\n",
       "2783830  2010-01-01 00:00:00         Crim Sexual Assault       1      True   \n",
       "1661264  2010-01-01 00:00:00                       Theft       0     False   \n",
       "2378495  2010-01-01 00:00:00  Offense Involving Children       0     False   \n",
       "1273122  2010-01-01 00:00:00                       Theft       0     False   \n",
       "1652853  2010-01-01 00:00:00  Offense Involving Children       0     False   \n",
       "\n",
       "         Year                       Location Location Description  \\\n",
       "2783830  2010  (41.871436933, -87.719700102)            Residence   \n",
       "1661264  2010  (41.806527859, -87.622761468)            Residence   \n",
       "2378495  2010  (41.709494361, -87.536487549)            Residence   \n",
       "1273122  2010  (41.745877762, -87.555213717)            Residence   \n",
       "1652853  2010  (41.765794757, -87.689392862)            Residence   \n",
       "\n",
       "             Community Area              Region  2010 Population  Month  \\\n",
       "2783830  East Garfield Park           West Side          20567.0      1   \n",
       "1661264     Grand Boulevard          South Side          21929.0      1   \n",
       "2378495           East Side  Far Southeast Side          23042.0      1   \n",
       "1273122       South Chicago  Far Southeast Side          31198.0      1   \n",
       "1652853        Chicago Lawn      Southwest Side          55628.0      1   \n",
       "\n",
       "        Day of Week Time of Day  Season  \n",
       "2783830      Friday       Night  Winter  \n",
       "1661264      Friday       Night  Winter  \n",
       "2378495      Friday       Night  Winter  \n",
       "1273122      Friday       Night  Winter  \n",
       "1652853      Friday       Night  Winter  "
      ]
     },
     "execution_count": 139,
     "metadata": {},
     "output_type": "execute_result"
    }
   ],
   "source": [
    "crimes.head()"
   ]
  },
  {
   "cell_type": "code",
   "execution_count": 140,
   "metadata": {},
   "outputs": [],
   "source": [
    "#only keeping certain columns\n",
    "crimes_cols = crimes[['Arrest', 'Primary Type', 'Year', 'Month', 'Location Description', 'Time of Day', 'Season']]"
   ]
  },
  {
   "cell_type": "code",
   "execution_count": 141,
   "metadata": {},
   "outputs": [
    {
     "data": {
      "text/html": [
       "<div>\n",
       "<style scoped>\n",
       "    .dataframe tbody tr th:only-of-type {\n",
       "        vertical-align: middle;\n",
       "    }\n",
       "\n",
       "    .dataframe tbody tr th {\n",
       "        vertical-align: top;\n",
       "    }\n",
       "\n",
       "    .dataframe thead th {\n",
       "        text-align: right;\n",
       "    }\n",
       "</style>\n",
       "<table border=\"1\" class=\"dataframe\">\n",
       "  <thead>\n",
       "    <tr style=\"text-align: right;\">\n",
       "      <th></th>\n",
       "      <th>Arrest</th>\n",
       "      <th>Primary Type</th>\n",
       "      <th>Year</th>\n",
       "      <th>Month</th>\n",
       "      <th>Location Description</th>\n",
       "      <th>Time of Day</th>\n",
       "      <th>Season</th>\n",
       "    </tr>\n",
       "  </thead>\n",
       "  <tbody>\n",
       "    <tr>\n",
       "      <th>2783830</th>\n",
       "      <td>1</td>\n",
       "      <td>Crim Sexual Assault</td>\n",
       "      <td>2010</td>\n",
       "      <td>1</td>\n",
       "      <td>Residence</td>\n",
       "      <td>Night</td>\n",
       "      <td>Winter</td>\n",
       "    </tr>\n",
       "    <tr>\n",
       "      <th>1661264</th>\n",
       "      <td>0</td>\n",
       "      <td>Theft</td>\n",
       "      <td>2010</td>\n",
       "      <td>1</td>\n",
       "      <td>Residence</td>\n",
       "      <td>Night</td>\n",
       "      <td>Winter</td>\n",
       "    </tr>\n",
       "    <tr>\n",
       "      <th>2378495</th>\n",
       "      <td>0</td>\n",
       "      <td>Offense Involving Children</td>\n",
       "      <td>2010</td>\n",
       "      <td>1</td>\n",
       "      <td>Residence</td>\n",
       "      <td>Night</td>\n",
       "      <td>Winter</td>\n",
       "    </tr>\n",
       "    <tr>\n",
       "      <th>1273122</th>\n",
       "      <td>0</td>\n",
       "      <td>Theft</td>\n",
       "      <td>2010</td>\n",
       "      <td>1</td>\n",
       "      <td>Residence</td>\n",
       "      <td>Night</td>\n",
       "      <td>Winter</td>\n",
       "    </tr>\n",
       "    <tr>\n",
       "      <th>1652853</th>\n",
       "      <td>0</td>\n",
       "      <td>Offense Involving Children</td>\n",
       "      <td>2010</td>\n",
       "      <td>1</td>\n",
       "      <td>Residence</td>\n",
       "      <td>Night</td>\n",
       "      <td>Winter</td>\n",
       "    </tr>\n",
       "  </tbody>\n",
       "</table>\n",
       "</div>"
      ],
      "text/plain": [
       "         Arrest                Primary Type  Year  Month Location Description  \\\n",
       "2783830       1         Crim Sexual Assault  2010      1            Residence   \n",
       "1661264       0                       Theft  2010      1            Residence   \n",
       "2378495       0  Offense Involving Children  2010      1            Residence   \n",
       "1273122       0                       Theft  2010      1            Residence   \n",
       "1652853       0  Offense Involving Children  2010      1            Residence   \n",
       "\n",
       "        Time of Day  Season  \n",
       "2783830       Night  Winter  \n",
       "1661264       Night  Winter  \n",
       "2378495       Night  Winter  \n",
       "1273122       Night  Winter  \n",
       "1652853       Night  Winter  "
      ]
     },
     "execution_count": 141,
     "metadata": {},
     "output_type": "execute_result"
    }
   ],
   "source": [
    "crimes_cols.head()"
   ]
  },
  {
   "cell_type": "markdown",
   "metadata": {},
   "source": [
    "<a id=\"dummy\">"
   ]
  },
  {
   "cell_type": "markdown",
   "metadata": {},
   "source": [
    "## Creating Dummy Variables for the Categorical Features"
   ]
  },
  {
   "cell_type": "code",
   "execution_count": 142,
   "metadata": {},
   "outputs": [],
   "source": [
    "oh = OneHotEncoder(drop='first', sparse=False)\n",
    "crimes_dummy = oh.fit_transform(crimes_cols)"
   ]
  },
  {
   "cell_type": "code",
   "execution_count": 143,
   "metadata": {},
   "outputs": [
    {
     "name": "stdout",
     "output_type": "stream",
     "text": [
      "Number of Rows: 2,924,694\n",
      "Number of New Columns: 145\n"
     ]
    }
   ],
   "source": [
    "print(\"Number of Rows: {:,d}\".format(crimes_dummy.shape[0]))\n",
    "print(\"Number of New Columns: {:,d}\".format(crimes_dummy.shape[1]))"
   ]
  },
  {
   "cell_type": "markdown",
   "metadata": {},
   "source": [
    "## Splitting into Train, Test, and Validation Sets"
   ]
  },
  {
   "cell_type": "code",
   "execution_count": 144,
   "metadata": {},
   "outputs": [],
   "source": [
    "#splitting into X and y \n",
    "y = crimes_dummy[:,0]\n",
    "X = crimes_dummy[:,1:]\n",
    "\n",
    "#creating train,validation, and test sets in order, to avoid testing on old data on a model trained on newer data\n",
    "train_end_idx = int(X.shape[0]*0.70)\n",
    "val_end_idx = int(X.shape[0]*0.85)\n",
    "\n",
    "#splitting into train and test sets\n",
    "X_train = X[:train_end_idx, :]\n",
    "X_val = X[train_end_idx:val_end_idx, :]\n",
    "X_test = X[val_end_idx:, :]\n",
    "\n",
    "y_train = y[:train_end_idx]\n",
    "y_val = y[train_end_idx:val_end_idx]\n",
    "y_test = y[val_end_idx:]"
   ]
  },
  {
   "cell_type": "markdown",
   "metadata": {},
   "source": [
    "## Training Models"
   ]
  },
  {
   "cell_type": "markdown",
   "metadata": {},
   "source": [
    "### Random Forest"
   ]
  },
  {
   "cell_type": "code",
   "execution_count": 170,
   "metadata": {
    "scrolled": true
   },
   "outputs": [
    {
     "data": {
      "text/plain": [
       "RandomForestClassifier(bootstrap=True, ccp_alpha=0.0, class_weight=None,\n",
       "                       criterion='gini', max_depth=None, max_features='auto',\n",
       "                       max_leaf_nodes=None, max_samples=None,\n",
       "                       min_impurity_decrease=0.0, min_impurity_split=None,\n",
       "                       min_samples_leaf=1, min_samples_split=2,\n",
       "                       min_weight_fraction_leaf=0.0, n_estimators=1000,\n",
       "                       n_jobs=None, oob_score=True, random_state=0, verbose=0,\n",
       "                       warm_start=False)"
      ]
     },
     "execution_count": 170,
     "metadata": {},
     "output_type": "execute_result"
    }
   ],
   "source": [
    "#only selecting a subset of the most recent observations to speed up hyperparameter tuning\n",
    "obs = 100000\n",
    "\n",
    "#initializing the model\n",
    "rf = RandomForestClassifier(n_estimators=1000, max_depth=10 \n",
    "                            random_state=0, oob_score=True)\n",
    "rf.fit(X_train[-obs:,:], y_train[-obs:])"
   ]
  },
  {
   "cell_type": "code",
   "execution_count": 171,
   "metadata": {},
   "outputs": [
    {
     "name": "stdout",
     "output_type": "stream",
     "text": [
      "Model Accuracy: 0.873\n"
     ]
    }
   ],
   "source": [
    "print(\"Model Accuracy: {:.3}\".format(rf.oob_score_))"
   ]
  },
  {
   "cell_type": "code",
   "execution_count": 172,
   "metadata": {},
   "outputs": [
    {
     "name": "stdout",
     "output_type": "stream",
     "text": [
      "Arrest Rate: 0.194\n",
      "Baseline Validation Accuracy when predicting all 0's: 0.806\n",
      "Model Validation Accuracy: 0.877\n"
     ]
    }
   ],
   "source": [
    "print(\"Arrest Rate: {:.3f}\".format(y_val.mean()))\n",
    "print(\"Baseline Validation Accuracy when predicting all 0's: {:.3f}\".format(1-y_val.mean()))\n",
    "print(\"Model Validation Accuracy: {:.3f}\".format(rf.score(X_val, y_val)))"
   ]
  },
  {
   "cell_type": "markdown",
   "metadata": {},
   "source": [
    "### Feed Forward Neural Network"
   ]
  },
  {
   "cell_type": "code",
   "execution_count": 155,
   "metadata": {},
   "outputs": [],
   "source": [
    "model = keras.Sequential([\n",
    "    keras.layers.Dense(1028, input_dim=X_train.shape[1], activation='relu'),\n",
    "#     keras.layers.Dense(512, activation='relu'), \n",
    "#     keras.layers.Dropout(0.05),\n",
    "    keras.layers.Dense(256, activation='relu'), \n",
    "    keras.layers.Dropout(0.05),\n",
    "#     keras.layers.Dense(128, activation='relu'),\n",
    "#     keras.layers.Dropout(0.05),\n",
    "    keras.layers.Dense(64, activation='relu'),\n",
    "    keras.layers.Dropout(0.05),\n",
    "    keras.layers.Dense(32, activation='relu'),\n",
    "    keras.layers.Dense(1, activation='sigmoid')   \n",
    "])"
   ]
  },
  {
   "cell_type": "code",
   "execution_count": 156,
   "metadata": {},
   "outputs": [
    {
     "name": "stdout",
     "output_type": "stream",
     "text": [
      "Model: \"sequential_13\"\n",
      "_________________________________________________________________\n",
      "Layer (type)                 Output Shape              Param #   \n",
      "=================================================================\n",
      "dense_80 (Dense)             (None, 1028)              149060    \n",
      "_________________________________________________________________\n",
      "dense_81 (Dense)             (None, 256)               263424    \n",
      "_________________________________________________________________\n",
      "dropout_45 (Dropout)         (None, 256)               0         \n",
      "_________________________________________________________________\n",
      "dense_82 (Dense)             (None, 64)                16448     \n",
      "_________________________________________________________________\n",
      "dropout_46 (Dropout)         (None, 64)                0         \n",
      "_________________________________________________________________\n",
      "dense_83 (Dense)             (None, 32)                2080      \n",
      "_________________________________________________________________\n",
      "dense_84 (Dense)             (None, 1)                 33        \n",
      "=================================================================\n",
      "Total params: 431,045\n",
      "Trainable params: 431,045\n",
      "Non-trainable params: 0\n",
      "_________________________________________________________________\n"
     ]
    }
   ],
   "source": [
    "#printing the model summary\n",
    "model.summary()"
   ]
  },
  {
   "cell_type": "code",
   "execution_count": 157,
   "metadata": {},
   "outputs": [],
   "source": [
    "#compiling the model\n",
    "model.compile(optimizer='adam', loss='binary_crossentropy', metrics=['accuracy'])"
   ]
  },
  {
   "cell_type": "code",
   "execution_count": 158,
   "metadata": {},
   "outputs": [
    {
     "name": "stdout",
     "output_type": "stream",
     "text": [
      "Train on 100000 samples\n",
      "Epoch 1/10\n",
      "100000/100000 [==============================] - 5s 52us/sample - loss: 0.3352 - accuracy: 0.8683\n",
      "Epoch 2/10\n",
      "100000/100000 [==============================] - 4s 44us/sample - loss: 0.3191 - accuracy: 0.8758\n",
      "Epoch 3/10\n",
      "100000/100000 [==============================] - 4s 44us/sample - loss: 0.3168 - accuracy: 0.8768\n",
      "Epoch 4/10\n",
      "100000/100000 [==============================] - 4s 44us/sample - loss: 0.3149 - accuracy: 0.8770\n",
      "Epoch 5/10\n",
      "100000/100000 [==============================] - 4s 44us/sample - loss: 0.3131 - accuracy: 0.8778\n",
      "Epoch 6/10\n",
      "100000/100000 [==============================] - 4s 44us/sample - loss: 0.3112 - accuracy: 0.8781\n",
      "Epoch 7/10\n",
      "100000/100000 [==============================] - 4s 45us/sample - loss: 0.3099 - accuracy: 0.8787\n",
      "Epoch 8/10\n",
      "100000/100000 [==============================] - 4s 45us/sample - loss: 0.3083 - accuracy: 0.8789\n",
      "Epoch 9/10\n",
      "100000/100000 [==============================] - 4s 45us/sample - loss: 0.3074 - accuracy: 0.8788\n",
      "Epoch 10/10\n",
      "100000/100000 [==============================] - 5s 45us/sample - loss: 0.3057 - accuracy: 0.8797\n"
     ]
    }
   ],
   "source": [
    "obs = 100000\n",
    "\n",
    "history = model.fit(X_train[-obs:, :], y_train[-obs:], epochs=10, batch_size=128)"
   ]
  },
  {
   "cell_type": "code",
   "execution_count": 165,
   "metadata": {},
   "outputs": [
    {
     "name": "stdout",
     "output_type": "stream",
     "text": [
      "Arrest Rate: 0.194\n",
      "Baseline Validation Accuracy when predicting all 0's: 0.806\n",
      "438704/438704 [==============================] - 7s 17us/sample - loss: 0.3373 - accuracy: 0.8767\n",
      "Model Validation Accuracy: 0.877\n"
     ]
    }
   ],
   "source": [
    "print(\"Arrest Rate: {:.3f}\".format(y_val.mean()))\n",
    "print(\"Baseline Validation Accuracy when predicting all 0's: {:.3f}\".format(1-y_val.mean()))\n",
    "print(\"Model Validation Accuracy: {:.3f}\".format(model.evaluate(X_val, y_val, batch_size=128)[1]))"
   ]
  },
  {
   "cell_type": "code",
   "execution_count": 160,
   "metadata": {},
   "outputs": [],
   "source": [
    "y_pred = model.predict(X_val)"
   ]
  },
  {
   "cell_type": "code",
   "execution_count": 161,
   "metadata": {},
   "outputs": [],
   "source": [
    "y_pred[y_pred >= 0.5] = 1\n",
    "y_pred[y_pred < 0.5] = 0"
   ]
  },
  {
   "cell_type": "code",
   "execution_count": 162,
   "metadata": {
    "scrolled": true
   },
   "outputs": [
    {
     "data": {
      "image/png": "[encoded data removed]",
      "text/plain": [
       "<Figure size 432x288 with 2 Axes>"
      ]
     },
     "metadata": {
      "needs_background": "light"
     },
     "output_type": "display_data"
    }
   ],
   "source": [
    "cm = confusion_matrix(y_val, y_pred)  \n",
    "\n",
    "ax= plt.subplot()\n",
    "sns.heatmap(cm, annot=True, ax = ax, fmt='d')\n",
    "ax.set_xlabel('Predicted labels')\n",
    "ax.set_ylabel('True labels')\n",
    "ax.set_title('Confusion Matrix: Feed Forward Neural Network')\n",
    "ax.xaxis.set_ticklabels(['No Arrest', 'Arrest'])\n",
    "ax.yaxis.set_ticklabels(['No Arrest', 'Arrest'])\n",
    "\n",
    "plt.show()"
   ]
  }
 ],
 "metadata": {
  "kernelspec": {
   "display_name": "Python 3",
   "language": "python",
   "name": "python3"
  },
  "language_info": {
   "codemirror_mode": {
    "name": "ipython",
    "version": 3
   },
   "file_extension": ".py",
   "mimetype": "text/x-python",
   "name": "python",
   "nbconvert_exporter": "python",
   "pygments_lexer": "ipython3",
   "version": "3.7.3"
  }
 },
 "nbformat": 4,
 "nbformat_minor": 2
}
