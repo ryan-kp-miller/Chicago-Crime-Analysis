{
 "cells": [
  {
   "cell_type": "markdown",
   "metadata": {},
   "source": [
    "# Crime Prediction and Inference\n",
    "The main goal of this model is to make inferences about crime in different sections of the city of Chicago. The secondary goal is to minimize the Mean Squared Error (RMSE) of the final model.   \n",
    "\n",
    "  \n",
    "Because of the nonlinear nature of the crimes as shown by the Crimes per Region from 2010 to 2020 line graph in the Data_Exploration notebook, I skipped Ordinary Least Squares Regression and went straight to other algorithms that were better suited to handling nonlinear data."
   ]
  },
  {
   "cell_type": "code",
   "execution_count": 41,
   "metadata": {},
   "outputs": [],
   "source": [
    "import pandas as pd\n",
    "from sklearn.ensemble import RandomForestRegressor\n",
    "from sklearn.preprocessing import StandardScaler\n",
    "from sklearn.linear_model import Lasso"
   ]
  },
  {
   "cell_type": "code",
   "execution_count": 42,
   "metadata": {},
   "outputs": [],
   "source": [
    "crimes = pd.read_csv('Data/crimes_cleaned.csv')"
   ]
  },
  {
   "cell_type": "code",
   "execution_count": 43,
   "metadata": {},
   "outputs": [
    {
     "data": {
      "text/html": [
       "<div>\n",
       "<style scoped>\n",
       "    .dataframe tbody tr th:only-of-type {\n",
       "        vertical-align: middle;\n",
       "    }\n",
       "\n",
       "    .dataframe tbody tr th {\n",
       "        vertical-align: top;\n",
       "    }\n",
       "\n",
       "    .dataframe thead th {\n",
       "        text-align: right;\n",
       "    }\n",
       "</style>\n",
       "<table border=\"1\" class=\"dataframe\">\n",
       "  <thead>\n",
       "    <tr style=\"text-align: right;\">\n",
       "      <th></th>\n",
       "      <th>Date</th>\n",
       "      <th>Primary Type</th>\n",
       "      <th>Arrest</th>\n",
       "      <th>Domestic</th>\n",
       "      <th>Year</th>\n",
       "      <th>Location</th>\n",
       "      <th>Location Description</th>\n",
       "      <th>Community Area</th>\n",
       "      <th>Region</th>\n",
       "      <th>2010 Population</th>\n",
       "      <th>Month</th>\n",
       "      <th>Day of Week</th>\n",
       "      <th>Time of Day</th>\n",
       "      <th>Season</th>\n",
       "    </tr>\n",
       "  </thead>\n",
       "  <tbody>\n",
       "    <tr>\n",
       "      <th>0</th>\n",
       "      <td>2019-04-10 16:37:00</td>\n",
       "      <td>Sex Offense</td>\n",
       "      <td>False</td>\n",
       "      <td>False</td>\n",
       "      <td>2019</td>\n",
       "      <td>(41.708589, -87.612583094)</td>\n",
       "      <td>School</td>\n",
       "      <td>Roseland</td>\n",
       "      <td>Far Southeast Side</td>\n",
       "      <td>44619.0</td>\n",
       "      <td>4</td>\n",
       "      <td>Wednesday</td>\n",
       "      <td>Afternoon</td>\n",
       "      <td>Spring</td>\n",
       "    </tr>\n",
       "    <tr>\n",
       "      <th>1</th>\n",
       "      <td>2019-04-19 13:57:00</td>\n",
       "      <td>Offense Involving Children</td>\n",
       "      <td>False</td>\n",
       "      <td>True</td>\n",
       "      <td>2019</td>\n",
       "      <td>(41.884865037, -87.755230327)</td>\n",
       "      <td>Residence</td>\n",
       "      <td>Austin</td>\n",
       "      <td>West Side</td>\n",
       "      <td>98514.0</td>\n",
       "      <td>4</td>\n",
       "      <td>Friday</td>\n",
       "      <td>Afternoon</td>\n",
       "      <td>Spring</td>\n",
       "    </tr>\n",
       "    <tr>\n",
       "      <th>2</th>\n",
       "      <td>2019-04-12 16:08:00</td>\n",
       "      <td>Offense Involving Children</td>\n",
       "      <td>False</td>\n",
       "      <td>True</td>\n",
       "      <td>2019</td>\n",
       "      <td>(41.940297617, -87.732066473)</td>\n",
       "      <td>Residence</td>\n",
       "      <td>Irving Park</td>\n",
       "      <td>Northwest Side</td>\n",
       "      <td>53359.0</td>\n",
       "      <td>4</td>\n",
       "      <td>Friday</td>\n",
       "      <td>Afternoon</td>\n",
       "      <td>Spring</td>\n",
       "    </tr>\n",
       "    <tr>\n",
       "      <th>3</th>\n",
       "      <td>2019-04-25 17:20:00</td>\n",
       "      <td>Battery</td>\n",
       "      <td>False</td>\n",
       "      <td>True</td>\n",
       "      <td>2019</td>\n",
       "      <td>(41.697609261, -87.613507612)</td>\n",
       "      <td>Residence</td>\n",
       "      <td>Roseland</td>\n",
       "      <td>Far Southeast Side</td>\n",
       "      <td>44619.0</td>\n",
       "      <td>4</td>\n",
       "      <td>Thursday</td>\n",
       "      <td>Evening</td>\n",
       "      <td>Spring</td>\n",
       "    </tr>\n",
       "    <tr>\n",
       "      <th>4</th>\n",
       "      <td>2019-05-13 17:26:00</td>\n",
       "      <td>Assault</td>\n",
       "      <td>False</td>\n",
       "      <td>False</td>\n",
       "      <td>2019</td>\n",
       "      <td>(41.729973132, -87.653166753)</td>\n",
       "      <td>Street</td>\n",
       "      <td>Washington Heights</td>\n",
       "      <td>Far Southwest Side</td>\n",
       "      <td>26493.0</td>\n",
       "      <td>5</td>\n",
       "      <td>Monday</td>\n",
       "      <td>Evening</td>\n",
       "      <td>Spring</td>\n",
       "    </tr>\n",
       "  </tbody>\n",
       "</table>\n",
       "</div>"
      ],
      "text/plain": [
       "                  Date                Primary Type  Arrest  Domestic  Year  \\\n",
       "0  2019-04-10 16:37:00                 Sex Offense   False     False  2019   \n",
       "1  2019-04-19 13:57:00  Offense Involving Children   False      True  2019   \n",
       "2  2019-04-12 16:08:00  Offense Involving Children   False      True  2019   \n",
       "3  2019-04-25 17:20:00                     Battery   False      True  2019   \n",
       "4  2019-05-13 17:26:00                     Assault   False     False  2019   \n",
       "\n",
       "                        Location Location Description      Community Area  \\\n",
       "0     (41.708589, -87.612583094)               School            Roseland   \n",
       "1  (41.884865037, -87.755230327)            Residence              Austin   \n",
       "2  (41.940297617, -87.732066473)            Residence         Irving Park   \n",
       "3  (41.697609261, -87.613507612)            Residence            Roseland   \n",
       "4  (41.729973132, -87.653166753)               Street  Washington Heights   \n",
       "\n",
       "               Region  2010 Population  Month Day of Week Time of Day  Season  \n",
       "0  Far Southeast Side          44619.0      4   Wednesday   Afternoon  Spring  \n",
       "1           West Side          98514.0      4      Friday   Afternoon  Spring  \n",
       "2      Northwest Side          53359.0      4      Friday   Afternoon  Spring  \n",
       "3  Far Southeast Side          44619.0      4    Thursday     Evening  Spring  \n",
       "4  Far Southwest Side          26493.0      5      Monday     Evening  Spring  "
      ]
     },
     "execution_count": 43,
     "metadata": {},
     "output_type": "execute_result"
    }
   ],
   "source": [
    "crimes.head()"
   ]
  },
  {
   "cell_type": "markdown",
   "metadata": {},
   "source": [
    "## Splitting into Train, Test, and Validation Sets"
   ]
  },
  {
   "cell_type": "code",
   "execution_count": 32,
   "metadata": {},
   "outputs": [],
   "source": [
    "#splitting into X and y \n",
    "y = crimes['Number of Crimes'].values\n",
    "X = crimes.iloc[:,1:].values\n",
    "\n",
    "#creating train,validation, and test sets in order, to avoid \n",
    "train_end_idx = int(X.shape[0]*0.70)\n",
    "val_end_idx = int(X.shape[0]*0.85)\n",
    "\n",
    "#splitting into train and test sets\n",
    "X_train = X[:train_end_idx, :]\n",
    "X_val = X[train_end_idx:val_end_idx, :]\n",
    "X_test = X[val_end_idx:, :]\n",
    "\n",
    "y_train = y[:train_end_idx]\n",
    "y_val = y[train_end_idx:val_end_idx]\n",
    "y_test = y[val_end_idx:]"
   ]
  },
  {
   "cell_type": "markdown",
   "metadata": {},
   "source": [
    "## Training Model"
   ]
  },
  {
   "cell_type": "code",
   "execution_count": 39,
   "metadata": {},
   "outputs": [
    {
     "name": "stdout",
     "output_type": "stream",
     "text": [
      "Model R^2: 0.133\n"
     ]
    }
   ],
   "source": [
    "#initializing the model\n",
    "rf = RandomForestRegressor(n_estimators=1000, criterion='mse', random_state=0, oob_score=True)\n",
    "rf.fit(X_train, y_train)\n",
    "\n",
    "print(\"Model R^2: {:.3}\".format(rf.oob_score_))"
   ]
  },
  {
   "cell_type": "code",
   "execution_count": null,
   "metadata": {},
   "outputs": [],
   "source": [
    "#initializing the model\n",
    "ls = Lasso(alpha=0.3, random_state=0)\n",
    "ls.fit(X_train, y_train)\n",
    "\n",
    "print(\"Model R^2: {:.3}\".format(ls.oob_score_))"
   ]
  }
 ],
 "metadata": {
  "kernelspec": {
   "display_name": "Python 3",
   "language": "python",
   "name": "python3"
  },
  "language_info": {
   "codemirror_mode": {
    "name": "ipython",
    "version": 3
   },
   "file_extension": ".py",
   "mimetype": "text/x-python",
   "name": "python",
   "nbconvert_exporter": "python",
   "pygments_lexer": "ipython3",
   "version": "3.7.3"
  }
 },
 "nbformat": 4,
 "nbformat_minor": 2
}
