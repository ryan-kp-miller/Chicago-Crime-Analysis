{
 "cells": [
  {
   "cell_type": "code",
   "execution_count": 1,
   "metadata": {},
   "outputs": [],
   "source": [
    "import pandas as pd"
   ]
  },
  {
   "cell_type": "code",
   "execution_count": 2,
   "metadata": {},
   "outputs": [],
   "source": [
    "crimes = pd.read_csv('Crimes_Reduced.csv')"
   ]
  },
  {
   "cell_type": "code",
   "execution_count": 7,
   "metadata": {},
   "outputs": [
    {
     "name": "stdout",
     "output_type": "stream",
     "text": [
      "Number of Crimes from 01/01/2010 01:00:00 AM to 12/31/2019 12:58:00 AM: 3,007,770\n",
      "Approximate Average Crimes a Day: 824\n"
     ]
    }
   ],
   "source": [
    "print(\"Number of Crimes from {} to {}: {:,d}\".format(crimes.Date.min(),crimes.Date.max(),crimes.shape[0]))\n",
    "print(\"Approximate Average Crimes per Day: {:,.0f}\".format(crimes.shape[0]/(10*365)))"
   ]
  },
  {
   "cell_type": "code",
   "execution_count": null,
   "metadata": {},
   "outputs": [],
   "source": [
    "type_counts = crimes.groupby(['Primary Type']).count().iloc[:,0]\n",
    "type_counts.sort_values(ascending=False)"
   ]
  }
 ],
 "metadata": {
  "kernelspec": {
   "display_name": "Python 3",
   "language": "python",
   "name": "python3"
  },
  "language_info": {
   "codemirror_mode": {
    "name": "ipython",
    "version": 3
   },
   "file_extension": ".py",
   "mimetype": "text/x-python",
   "name": "python",
   "nbconvert_exporter": "python",
   "pygments_lexer": "ipython3",
   "version": "3.7.3"
  }
 },
 "nbformat": 4,
 "nbformat_minor": 2
}
