{
 "cells": [
  {
   "cell_type": "markdown",
   "metadata": {},
   "source": [
    "# Data Preprocessing\n",
    "As of 3/10/2020, the [dataset](https://data.cityofchicago.org/Public-Safety/Crimes-2001-to-present/ijzp-q8t2) provided by the city of Chicago on crime (excluding murders) contains over 7 millions rows and 22 columns. This [dataset](https://data.cityofchicago.org/Public-Safety/Homicides/k9xv-yxzs) contained the homicides, about 10,000, from the last 20 years. To facilitate early exploration of the data and focus on more recent, relevant trends, I removed crimes from before 2010, unneeded columns, and rows with nulls. The reduced dataset contained just under 3 million rows of crimes  \n",
    "  \n",
    "After reducing the size of the dataset, I cleaned up the text columns by manually matching values of each column with a smaller subset of categories in excel, mapped the Community Area ID's to their name and group (e.g. Community Area 8 maps to Near North Side and Central) based on [this](https://en.wikipedia.org/wiki/Community_areas_in_Chicago) Wikipedia page, and added some categorical columns based on the date of the crime.  \n",
    "\n",
    "Also added in the Community Area population sizes from the [2010 Census](https://www.chicago.gov/content/dam/city/depts/zlup/Zoning_Main_Page/Publications/Census_2010_Community_Area_Profiles/Census_2010_and_2000_CA_Populations.pdf) to allow for an approximated Crimes/Homicides per Capita calculation. Unfortunately, this data isn't provided year over year and as of 3/30/2020, the 2020 Census isn't available, which is why I needed to use 2010 population sizes."
   ]
  },
  {
   "cell_type": "markdown",
   "metadata": {},
   "source": [
    "## Table of Contents\n",
    "- [Dataset Description](#original_desc)  \n",
    "- [Reading in the Original Datasets and Combining Them](#read_in)  \n",
    "- [Reducing the Number of Crimes](#reduce)  \n",
    "- [Removing Unneeded Columns](#unneeded_columns)\n",
    "- [Cleaning Up Text Columns](#clean_up)\n",
    "- [Pulling in Community Area Names and Regions](#community_areas)\n",
    "- [Creating New Datetime Columns based on the Date of the Crime](#date_columns)\n",
    "- [Dropping Nulls from the Dataset](#nulls)\n",
    "- [Saving the Cleaned Dataset](#saving)"
   ]
  },
  {
   "cell_type": "markdown",
   "metadata": {},
   "source": [
    "<a id=\"original_desc\">  "
   ]
  },
  {
   "cell_type": "markdown",
   "metadata": {},
   "source": [
    "## Dataset Description:\n",
    "These are the original column descriptions from the City of Chicago \n",
    "[website](https://data.cityofchicago.org/Public-Safety/Crimes-2001-to-present/ijzp-q8t2)  "
   ]
  },
  {
   "cell_type": "markdown",
   "metadata": {},
   "source": [
    "| Column Name  | Column Description |  \n",
    "| :-:    | :-: |  \n",
    "| ID           | Unique identifier for the record |\n",
    "| Case Number  | The Chicago Police Department Records Division Number |\n",
    "| Date         | Date when the incident occurred (sometimes an estimate) |\n",
    "| Block        | The partially redacted address where the incident occurred, placing it on the same block as the actual address |\n",
    "| IUCR         | Illinois Uniform Crime Reporting code |\n",
    "| Primary Type | The primary description of the IUCR code |\n",
    "| Description  | The secondary description of the IUCR code, a subcategory of the primary description |\n",
    "| Location Description | Description of the location where the incident occurred |\n",
    "| Arrest | Indicates whether an arrest was made |\n",
    "| Domestic | Indicates whether the incident was domestic-related as defined by the Illinois Domestic Violence act |\n",
    "| Beat | Indicates the beat where the incident occurred. A beat is the smallest police geographic area. 3 to 5 beats make up a police sector, and 3 sectors make up a police district |\n",
    "| District | Indicates the police district where the incident occurred |\n",
    "| Ward | The ward (City Council district) where the incident occurred |\n",
    "| Community Area | Indicates the community area where the incident occurred (Chicago has 77 community areas) |\n",
    "| FBI Code | Indicates the crime classification as outlined in the FBI's National Incident-Based Reporting System (NIBRS) |\n",
    "| X Coordinate | The x coordinate of the location where the incident occurred in State Plane Illinois East NAD 1983 projection. This location is shifted from the actual location for partial redaction but falls on the same block |\n",
    "| Y Coordinate | The y coordinate of the location where the incident occurred in State Plane Illinois East NAD 1983 projection. This location is shifted from the actual location for partial redaction but falls on the same block |\n",
    "| Year | The year the incident occurred |\n",
    "| Updated On | Date and time the record was last updated |\n",
    "| Latitude | The latitude of the location where the incident occurred. This location is shifted from the actual location for partial redaction but falls on the same block |\n",
    "| Longitude | The longitude of the location where the incident occurred. This location is shifted from the actual location for partial redaction but falls on the same block |\n",
    "| Location | The location where the incident occurred in a format that allows for creation of maps and other geographic operations on this data portal. This location is shifted from the actual location for partial redaction but falls on the same block |"
   ]
  },
  {
   "cell_type": "markdown",
   "metadata": {},
   "source": [
    "<a id=\"read_in\">"
   ]
  },
  {
   "cell_type": "markdown",
   "metadata": {},
   "source": [
    "## Reading in the Original Datasets and Combining Them"
   ]
  },
  {
   "cell_type": "code",
   "execution_count": 6,
   "metadata": {},
   "outputs": [],
   "source": [
    "import pandas as pd\n",
    "import datetime as dt\n",
    "from dateutil.relativedelta import relativedelta\n",
    "\n",
    "import warnings\n",
    "warnings.filterwarnings('ignore')"
   ]
  },
  {
   "cell_type": "code",
   "execution_count": 7,
   "metadata": {},
   "outputs": [],
   "source": [
    "crimes_general = pd.read_csv(\"Data/Crimes_-_2001_to_Present.csv\", parse_dates=['Date'])\n",
    "crimes_murders = pd.read_csv(\"Data/Homicides.csv\", parse_dates=['Date'])"
   ]
  },
  {
   "cell_type": "code",
   "execution_count": 8,
   "metadata": {
    "scrolled": false
   },
   "outputs": [],
   "source": [
    "#combining general crimes and homicides\n",
    "crimes = pd.concat([crimes_general, crimes_murders], ignore_index=True)\n",
    "\n",
    "#converting arrest column from boolean to int\n",
    "crimes['Arrest'] = crimes['Arrest'].astype(int)"
   ]
  },
  {
   "cell_type": "code",
   "execution_count": 9,
   "metadata": {},
   "outputs": [
    {
     "output_type": "stream",
     "name": "stdout",
     "text": [
      "There were 7,222,382 General Crimes from 2001-01-01 00:00:00 to 2020-10-27 23:59:00\n\nThere were 10,705 Homicides from 2001-01-01 10:40:00 to 2020-10-27 02:14:00\n\nThere were 7,233,087 Total Crimes from 2001-01-01 00:00:00 to 2020-10-27 23:59:00\n"
     ]
    }
   ],
   "source": [
    "print(\"There were {:,d} General Crimes from {} to {}\".format(crimes_general.shape[0],\n",
    "                                                           crimes_general.Date.min(),\n",
    "                                                           crimes_general.Date.max()))\n",
    "print()\n",
    "print(\"There were {:,d} Homicides from {} to {}\".format(crimes_murders.shape[0],\n",
    "                                                           crimes_murders.Date.min(),\n",
    "                                                           crimes_murders.Date.max()))\n",
    "print()\n",
    "print(\"There were {:,d} Total Crimes from {} to {}\".format(crimes.shape[0],\n",
    "                                                           crimes.Date.min(),\n",
    "                                                           crimes.Date.max()))"
   ]
  },
  {
   "cell_type": "markdown",
   "metadata": {},
   "source": [
    "<a id=\"reduce\">"
   ]
  },
  {
   "cell_type": "markdown",
   "metadata": {},
   "source": [
    "## Reducing the Number of Crimes\n",
    "\n",
    "Because of the large size of the original dataset, I am removing crimes from before 2010 to allow for relevant inferences to the present. And because I plan to create a machine learning model predicting whether an arrest will be made for a crime, I am also removing the crimes from 2020 so as to only include crimes that have had what I believe to be a reasonable amount of time to make an arrest."
   ]
  },
  {
   "cell_type": "code",
   "execution_count": 10,
   "metadata": {},
   "outputs": [
    {
     "output_type": "stream",
     "name": "stdout",
     "text": [
      "There were 2,977,816 of Crimes from 2010-01-01 00:00:00 to 2019-12-31 23:55:00\n"
     ]
    }
   ],
   "source": [
    "#removing crimes from over 10 years ago and the most recent 4 months\n",
    "crimes_cleaned = crimes[(crimes.Year >= 2010) & (crimes.Year <= 2019)].copy()\n",
    "\n",
    "#displaying the results\n",
    "print(\"There were {:,d} of Crimes from {} to {}\".format(crimes_cleaned.shape[0],\n",
    "                                                        crimes_cleaned.Date.min(),\n",
    "                                                        crimes_cleaned.Date.max()))"
   ]
  },
  {
   "cell_type": "markdown",
   "metadata": {},
   "source": [
    "<a id=\"unneeded_columns\">"
   ]
  },
  {
   "cell_type": "markdown",
   "metadata": {},
   "source": [
    "## Removing Unneeded Columns"
   ]
  },
  {
   "cell_type": "code",
   "execution_count": 11,
   "metadata": {},
   "outputs": [
    {
     "output_type": "execute_result",
     "data": {
      "text/plain": [
       "                 Date                Primary Type Location Description  \\\n",
       "1 2017-10-08 03:00:00         CRIM SEXUAL ASSAULT            RESIDENCE   \n",
       "2 2017-03-28 14:00:00                    BURGLARY                OTHER   \n",
       "3 2017-09-09 20:17:00                       THEFT            RESIDENCE   \n",
       "4 2017-08-26 10:00:00         CRIM SEXUAL ASSAULT          HOTEL/MOTEL   \n",
       "5 2015-01-01 00:01:00  OFFENSE INVOLVING CHILDREN            RESIDENCE   \n",
       "\n",
       "   Arrest  Domestic  Community Area  Year  Latitude  Longitude  \n",
       "1       0     False            73.0  2017       NaN        NaN  \n",
       "2       0     False            70.0  2017       NaN        NaN  \n",
       "3       0     False            42.0  2017       NaN        NaN  \n",
       "4       0     False            32.0  2017       NaN        NaN  \n",
       "5       0      True            65.0  2015       NaN        NaN  "
      ],
      "text/html": "<div>\n<style scoped>\n    .dataframe tbody tr th:only-of-type {\n        vertical-align: middle;\n    }\n\n    .dataframe tbody tr th {\n        vertical-align: top;\n    }\n\n    .dataframe thead th {\n        text-align: right;\n    }\n</style>\n<table border=\"1\" class=\"dataframe\">\n  <thead>\n    <tr style=\"text-align: right;\">\n      <th></th>\n      <th>Date</th>\n      <th>Primary Type</th>\n      <th>Location Description</th>\n      <th>Arrest</th>\n      <th>Domestic</th>\n      <th>Community Area</th>\n      <th>Year</th>\n      <th>Latitude</th>\n      <th>Longitude</th>\n    </tr>\n  </thead>\n  <tbody>\n    <tr>\n      <th>1</th>\n      <td>2017-10-08 03:00:00</td>\n      <td>CRIM SEXUAL ASSAULT</td>\n      <td>RESIDENCE</td>\n      <td>0</td>\n      <td>False</td>\n      <td>73.0</td>\n      <td>2017</td>\n      <td>NaN</td>\n      <td>NaN</td>\n    </tr>\n    <tr>\n      <th>2</th>\n      <td>2017-03-28 14:00:00</td>\n      <td>BURGLARY</td>\n      <td>OTHER</td>\n      <td>0</td>\n      <td>False</td>\n      <td>70.0</td>\n      <td>2017</td>\n      <td>NaN</td>\n      <td>NaN</td>\n    </tr>\n    <tr>\n      <th>3</th>\n      <td>2017-09-09 20:17:00</td>\n      <td>THEFT</td>\n      <td>RESIDENCE</td>\n      <td>0</td>\n      <td>False</td>\n      <td>42.0</td>\n      <td>2017</td>\n      <td>NaN</td>\n      <td>NaN</td>\n    </tr>\n    <tr>\n      <th>4</th>\n      <td>2017-08-26 10:00:00</td>\n      <td>CRIM SEXUAL ASSAULT</td>\n      <td>HOTEL/MOTEL</td>\n      <td>0</td>\n      <td>False</td>\n      <td>32.0</td>\n      <td>2017</td>\n      <td>NaN</td>\n      <td>NaN</td>\n    </tr>\n    <tr>\n      <th>5</th>\n      <td>2015-01-01 00:01:00</td>\n      <td>OFFENSE INVOLVING CHILDREN</td>\n      <td>RESIDENCE</td>\n      <td>0</td>\n      <td>True</td>\n      <td>65.0</td>\n      <td>2015</td>\n      <td>NaN</td>\n      <td>NaN</td>\n    </tr>\n  </tbody>\n</table>\n</div>"
     },
     "metadata": {},
     "execution_count": 11
    }
   ],
   "source": [
    "#creating a list of the columns to drop\n",
    "drop_cols = ['ID','Case Number', 'Block', 'Description', \n",
    "             'Beat', 'District', 'Ward', 'IUCR', 'FBI Code', \n",
    "             'Location', 'X Coordinate', 'Y Coordinate', \n",
    "             'Updated On']\n",
    "\n",
    "#dropping the columns\n",
    "crimes_cleaned.drop(labels=drop_cols, axis=1, inplace=True)\n",
    "\n",
    "#displaying the results\n",
    "crimes_cleaned.head()"
   ]
  },
  {
   "cell_type": "markdown",
   "metadata": {},
   "source": [
    "<a id=\"clean_up\">"
   ]
  },
  {
   "cell_type": "markdown",
   "metadata": {},
   "source": [
    "## Cleaning Up Text Columns"
   ]
  },
  {
   "cell_type": "markdown",
   "metadata": {},
   "source": [
    "### Primary Type"
   ]
  },
  {
   "cell_type": "code",
   "execution_count": 12,
   "metadata": {},
   "outputs": [
    {
     "output_type": "execute_result",
     "data": {
      "text/plain": [
       "array(['CRIM SEXUAL ASSAULT', 'BURGLARY', 'THEFT',\n",
       "       'OFFENSE INVOLVING CHILDREN', 'DECEPTIVE PRACTICE',\n",
       "       'CRIMINAL DAMAGE', 'OTHER OFFENSE', 'SEX OFFENSE',\n",
       "       'CRIMINAL SEXUAL ASSAULT', 'NARCOTICS', 'BATTERY', 'ROBBERY',\n",
       "       'ASSAULT', 'CRIMINAL TRESPASS', 'WEAPONS VIOLATION',\n",
       "       'MOTOR VEHICLE THEFT', 'OBSCENITY', 'NON-CRIMINAL',\n",
       "       'PUBLIC PEACE VIOLATION', 'LIQUOR LAW VIOLATION', 'PROSTITUTION',\n",
       "       'INTIMIDATION', 'ARSON', 'STALKING',\n",
       "       'INTERFERENCE WITH PUBLIC OFFICER',\n",
       "       'CONCEALED CARRY LICENSE VIOLATION', 'KIDNAPPING',\n",
       "       'HUMAN TRAFFICKING', 'HOMICIDE', 'GAMBLING', 'PUBLIC INDECENCY',\n",
       "       'OTHER NARCOTIC VIOLATION', 'NON - CRIMINAL',\n",
       "       'NON-CRIMINAL (SUBJECT SPECIFIED)'], dtype=object)"
      ]
     },
     "metadata": {},
     "execution_count": 12
    }
   ],
   "source": [
    "#original values\n",
    "crimes_cleaned['Primary Type'].unique()"
   ]
  },
  {
   "cell_type": "code",
   "execution_count": 13,
   "metadata": {},
   "outputs": [
    {
     "output_type": "execute_result",
     "data": {
      "text/plain": [
       "array(['Crim Sexual Assault', 'Burglary', 'Theft',\n",
       "       'Offense Involving Children', 'Deceptive Practice',\n",
       "       'Criminal Damage', 'Other Offense', 'Sex Offense',\n",
       "       'Criminal Sexual Assault', 'Narcotics', 'Battery', 'Robbery',\n",
       "       'Assault', 'Criminal Trespass', 'Weapons Violation',\n",
       "       'Motor Vehicle Theft', 'Obscenity', 'Non-Criminal',\n",
       "       'Public Peace Violation', 'Liquor Law Violation', 'Prostitution',\n",
       "       'Intimidation', 'Arson', 'Stalking',\n",
       "       'Interference With Public Officer',\n",
       "       'Concealed Carry License Violation', 'Kidnapping',\n",
       "       'Human Trafficking', 'Homicide', 'Gambling', 'Public Indecency',\n",
       "       'Other Narcotic Violation'], dtype=object)"
      ]
     },
     "metadata": {},
     "execution_count": 13
    }
   ],
   "source": [
    "#list of other values to group under \"NON-CRIMINAL\"\n",
    "non_criminal_list = ['NON - CRIMINAL','NON-CRIMINAL (SUBJECT SPECIFIED)']\n",
    "\n",
    "#replacing the other values with \"NON-CRIMINAL\"\n",
    "crimes_cleaned['Primary Type'].replace(to_replace = non_criminal_list,\n",
    "                                       value='NON-CRIMINAL', regex=False,\n",
    "                                       inplace=True)\n",
    "\n",
    "#Converting values to title case\n",
    "crimes_cleaned['Primary Type'] = crimes_cleaned['Primary Type'].str.title()\n",
    "\n",
    "#displaying the results\n",
    "crimes_cleaned['Primary Type'].unique()"
   ]
  },
  {
   "cell_type": "markdown",
   "metadata": {},
   "source": [
    "### Location Description"
   ]
  },
  {
   "cell_type": "code",
   "execution_count": 14,
   "metadata": {},
   "outputs": [
    {
     "output_type": "execute_result",
     "data": {
      "text/plain": [
       "array(['RESIDENCE', 'OTHER', 'HOTEL/MOTEL', nan, 'APARTMENT', 'SIDEWALK',\n",
       "       'PARKING LOT/GARAGE(NON.RESID.)', 'RESIDENCE-GARAGE',\n",
       "       'HOSPITAL BUILDING/GROUNDS', 'BANK', 'RESTAURANT',\n",
       "       'SCHOOL, PUBLIC, BUILDING',\n",
       "       'AIRPORT BUILDING NON-TERMINAL - SECURE AREA',\n",
       "       'RESIDENCE PORCH/HALLWAY', 'RESIDENTIAL YARD (FRONT/BACK)',\n",
       "       'BAR OR TAVERN', 'AIRPORT TERMINAL LOWER LEVEL - NON-SECURE AREA',\n",
       "       'ALLEY', 'AUTO / BOAT / RV DEALERSHIP', 'VACANT LOT/LAND',\n",
       "       'WAREHOUSE', 'VEHICLE NON-COMMERCIAL', 'POOL ROOM', 'STREET',\n",
       "       'PARK PROPERTY', 'BOAT/WATERCRAFT', 'MEDICAL/DENTAL OFFICE',\n",
       "       'CTA STATION', 'CONVENIENCE STORE', 'ATHLETIC CLUB',\n",
       "       'POLICE FACILITY/VEH PARKING LOT', 'COMMERCIAL / BUSINESS OFFICE',\n",
       "       'SMALL RETAIL STORE', 'AIRPORT/AIRCRAFT', 'ANIMAL HOSPITAL',\n",
       "       'ATM (AUTOMATIC TELLER MACHINE)', 'CTA BUS', 'CURRENCY EXCHANGE',\n",
       "       'DRIVEWAY - RESIDENTIAL', 'GOVERNMENT BUILDING/PROPERTY',\n",
       "       'AIRPORT TERMINAL UPPER LEVEL - NON-SECURE AREA',\n",
       "       'CONSTRUCTION SITE', 'DEPARTMENT STORE', 'SPORTS ARENA/STADIUM',\n",
       "       'LIBRARY', 'GAS STATION', 'CTA PLATFORM', 'CTA TRAIN',\n",
       "       'CHURCH/SYNAGOGUE/PLACE OF WORSHIP',\n",
       "       'AIRPORT VENDING ESTABLISHMENT', 'SCHOOL, PRIVATE, BUILDING',\n",
       "       'NURSING HOME/RETIREMENT HOME', 'DAY CARE CENTER', 'PAWN SHOP',\n",
       "       'OTHER RAILROAD PROP / TRAIN DEPOT', 'CHA APARTMENT', 'AIRCRAFT',\n",
       "       'AIRPORT TERMINAL UPPER LEVEL - SECURE AREA', 'DRUG STORE',\n",
       "       'GROCERY FOOD STORE', 'BRIDGE', 'LAKEFRONT/WATERFRONT/RIVERBANK',\n",
       "       'AIRPORT BUILDING NON-TERMINAL - NON-SECURE AREA',\n",
       "       'COLLEGE/UNIVERSITY GROUNDS', 'CHA PARKING LOT/GROUNDS',\n",
       "       'OTHER COMMERCIAL TRANSPORTATION', 'SCHOOL, PRIVATE, GROUNDS',\n",
       "       'ABANDONED BUILDING', 'CTA BUS STOP', 'SCHOOL, PUBLIC, GROUNDS',\n",
       "       'COLLEGE/UNIVERSITY RESIDENCE HALL', 'MOVIE HOUSE/THEATER',\n",
       "       'AIRPORT EXTERIOR - SECURE AREA', 'CTA GARAGE / OTHER PROPERTY',\n",
       "       'HIGHWAY/EXPRESSWAY', 'AIRPORT TERMINAL LOWER LEVEL - SECURE AREA',\n",
       "       'TAXICAB', 'TAVERN/LIQUOR STORE', 'CAR WASH',\n",
       "       'JAIL / LOCK-UP FACILITY', 'SCHOOL - PRIVATE BUILDING',\n",
       "       'VEHICLE-COMMERCIAL', 'FACTORY/MANUFACTURING BUILDING',\n",
       "       'AIRPORT TRANSPORTATION SYSTEM (ATS)', 'FEDERAL BUILDING',\n",
       "       'FIRE STATION', 'AIRPORT EXTERIOR - NON-SECURE AREA',\n",
       "       'BOWLING ALLEY', 'VEHICLE - OTHER RIDE SERVICE',\n",
       "       'CHA HALLWAY/STAIRWELL/ELEVATOR',\n",
       "       'AIRPORT TERMINAL MEZZANINE - NON-SECURE AREA', 'CREDIT UNION',\n",
       "       'APPLIANCE STORE', 'BARBERSHOP',\n",
       "       'VEHICLE - OTHER RIDE SHARE SERVICE (E.G., UBER, LYFT)',\n",
       "       'VEHICLE - DELIVERY TRUCK', 'AIRPORT PARKING LOT',\n",
       "       'OTHER (SPECIFY)', 'SCHOOL - PUBLIC BUILDING',\n",
       "       'COIN OPERATED MACHINE', 'SAVINGS AND LOAN', 'CEMETARY',\n",
       "       'LAKEFRONT / WATERFRONT / RIVERBANK', 'PARKING LOT',\n",
       "       'VACANT LOT / LAND', 'PORCH', 'HOUSE',\n",
       "       'RESIDENCE - PORCH / HALLWAY', 'AUTO', 'HOTEL / MOTEL',\n",
       "       'PARKING LOT / GARAGE (NON RESIDENTIAL)',\n",
       "       'CTA TRACKS - RIGHT OF WAY', 'RETAIL STORE',\n",
       "       'CHURCH / SYNAGOGUE / PLACE OF WORSHIP', 'CHA GROUNDS', 'YARD',\n",
       "       'VEHICLE - OTHER RIDE SHARE SERVICE (LYFT, UBER, ETC.)',\n",
       "       'CLEANING STORE', 'MEDICAL / DENTAL OFFICE', 'FOREST PRESERVE',\n",
       "       'CHA PARKING LOT / GROUNDS', 'VEHICLE - COMMERCIAL',\n",
       "       'RESIDENCE - GARAGE', 'KENNEL', 'FACTORY / MANUFACTURING BUILDING',\n",
       "       'FARM', 'VEHICLE-COMMERCIAL - TROLLEY BUS',\n",
       "       'GOVERNMENT BUILDING / PROPERTY', 'SCHOOL - PUBLIC GROUNDS',\n",
       "       'RESIDENCE - YARD (FRONT / BACK)', 'HOSPITAL BUILDING / GROUNDS',\n",
       "       'RAILROAD PROPERTY', 'CTA PARKING LOT / GARAGE / OTHER PROPERTY',\n",
       "       'NURSING / RETIREMENT HOME', 'VACANT LOT', 'CTA \"L\" PLATFORM',\n",
       "       'COLLEGE / UNIVERSITY - GROUNDS', 'NEWSSTAND',\n",
       "       'POLICE FACILITY / VEHICLE PARKING LOT', 'BOAT / WATERCRAFT',\n",
       "       'GANGWAY', 'BARBER SHOP/BEAUTY SALON',\n",
       "       'COLLEGE / UNIVERSITY - RESIDENCE HALL', 'HOTEL', 'STAIRWELL',\n",
       "       'VEHICLE-COMMERCIAL - ENTERTAINMENT/PARTY BUS', 'CHA PARKING LOT',\n",
       "       'HALLWAY', 'HORSE STABLE', 'DRIVEWAY', 'TAVERN / LIQUOR STORE',\n",
       "       'OTHER RAILROAD PROPERTY / TRAIN DEPOT',\n",
       "       'SCHOOL - PRIVATE GROUNDS', 'GARAGE', 'SPORTS ARENA / STADIUM',\n",
       "       'MOVIE HOUSE / THEATER', 'HOSPITAL', 'GARAGE/AUTO REPAIR',\n",
       "       'CTA SUBWAY STATION', 'CHA PLAY LOT', 'GAS STATION DRIVE/PROP.',\n",
       "       'OFFICE', 'TRAILER', 'WOODED AREA', 'LAUNDRY ROOM', 'BASEMENT',\n",
       "       'RIVER BANK', 'CHA HALLWAY / STAIRWELL / ELEVATOR', 'TAVERN',\n",
       "       'LIQUOR STORE', 'MOTEL', 'LAKE', 'CLUB', 'PUBLIC HIGH SCHOOL',\n",
       "       'TAXI CAB', 'VESTIBULE', 'SCHOOL YARD', 'RIVER', 'CHURCH PROPERTY',\n",
       "       'NURSING HOME', 'SEWER', 'GOVERNMENT BUILDING', 'TRUCK',\n",
       "       'ELEVATOR', 'POOLROOM', 'CLEANERS/LAUNDROMAT',\n",
       "       'EXPRESSWAY EMBANKMENT', 'CTA \"L\" TRAIN', 'LAGOON', 'CHA HALLWAY',\n",
       "       'CTA PROPERTY', 'CHURCH', 'ROOMING HOUSE', 'YMCA',\n",
       "       'DELIVERY TRUCK'], dtype=object)"
      ]
     },
     "metadata": {},
     "execution_count": 14
    }
   ],
   "source": [
    "#original values of Location Description\n",
    "crimes_cleaned['Location Description'].unique()"
   ]
  },
  {
   "cell_type": "code",
   "execution_count": 15,
   "metadata": {},
   "outputs": [
    {
     "output_type": "execute_result",
     "data": {
      "text/plain": [
       "  Original Value    New Value\n",
       "0      RESIDENCE    Residence\n",
       "1          OTHER        Other\n",
       "2    HOTEL/MOTEL  Hotel/Motel\n",
       "3      APARTMENT    Residence\n",
       "4       SIDEWALK     Sidewalk"
      ],
      "text/html": "<div>\n<style scoped>\n    .dataframe tbody tr th:only-of-type {\n        vertical-align: middle;\n    }\n\n    .dataframe tbody tr th {\n        vertical-align: top;\n    }\n\n    .dataframe thead th {\n        text-align: right;\n    }\n</style>\n<table border=\"1\" class=\"dataframe\">\n  <thead>\n    <tr style=\"text-align: right;\">\n      <th></th>\n      <th>Original Value</th>\n      <th>New Value</th>\n    </tr>\n  </thead>\n  <tbody>\n    <tr>\n      <th>0</th>\n      <td>RESIDENCE</td>\n      <td>Residence</td>\n    </tr>\n    <tr>\n      <th>1</th>\n      <td>OTHER</td>\n      <td>Other</td>\n    </tr>\n    <tr>\n      <th>2</th>\n      <td>HOTEL/MOTEL</td>\n      <td>Hotel/Motel</td>\n    </tr>\n    <tr>\n      <th>3</th>\n      <td>APARTMENT</td>\n      <td>Residence</td>\n    </tr>\n    <tr>\n      <th>4</th>\n      <td>SIDEWALK</td>\n      <td>Sidewalk</td>\n    </tr>\n  </tbody>\n</table>\n</div>"
     },
     "metadata": {},
     "execution_count": 15
    }
   ],
   "source": [
    "#reading in manual mapping of unique original values to new ones\n",
    "location = pd.read_csv('Data/Location.csv')\n",
    "location.head()"
   ]
  },
  {
   "cell_type": "code",
   "execution_count": 16,
   "metadata": {},
   "outputs": [
    {
     "output_type": "execute_result",
     "data": {
      "text/plain": [
       "                 Date                Primary Type  Arrest  Domestic  \\\n",
       "0 2017-10-08 03:00:00         Crim Sexual Assault       0     False   \n",
       "1 2017-03-28 14:00:00                    Burglary       0     False   \n",
       "2 2017-09-09 20:17:00                       Theft       0     False   \n",
       "3 2017-08-26 10:00:00         Crim Sexual Assault       0     False   \n",
       "4 2015-01-01 00:01:00  Offense Involving Children       0      True   \n",
       "\n",
       "   Community Area  Year  Latitude  Longitude Location Description  \n",
       "0            73.0  2017       NaN        NaN            Residence  \n",
       "1            70.0  2017       NaN        NaN                Other  \n",
       "2            42.0  2017       NaN        NaN            Residence  \n",
       "3            32.0  2017       NaN        NaN          Hotel/Motel  \n",
       "4            65.0  2015       NaN        NaN            Residence  "
      ],
      "text/html": "<div>\n<style scoped>\n    .dataframe tbody tr th:only-of-type {\n        vertical-align: middle;\n    }\n\n    .dataframe tbody tr th {\n        vertical-align: top;\n    }\n\n    .dataframe thead th {\n        text-align: right;\n    }\n</style>\n<table border=\"1\" class=\"dataframe\">\n  <thead>\n    <tr style=\"text-align: right;\">\n      <th></th>\n      <th>Date</th>\n      <th>Primary Type</th>\n      <th>Arrest</th>\n      <th>Domestic</th>\n      <th>Community Area</th>\n      <th>Year</th>\n      <th>Latitude</th>\n      <th>Longitude</th>\n      <th>Location Description</th>\n    </tr>\n  </thead>\n  <tbody>\n    <tr>\n      <th>0</th>\n      <td>2017-10-08 03:00:00</td>\n      <td>Crim Sexual Assault</td>\n      <td>0</td>\n      <td>False</td>\n      <td>73.0</td>\n      <td>2017</td>\n      <td>NaN</td>\n      <td>NaN</td>\n      <td>Residence</td>\n    </tr>\n    <tr>\n      <th>1</th>\n      <td>2017-03-28 14:00:00</td>\n      <td>Burglary</td>\n      <td>0</td>\n      <td>False</td>\n      <td>70.0</td>\n      <td>2017</td>\n      <td>NaN</td>\n      <td>NaN</td>\n      <td>Other</td>\n    </tr>\n    <tr>\n      <th>2</th>\n      <td>2017-09-09 20:17:00</td>\n      <td>Theft</td>\n      <td>0</td>\n      <td>False</td>\n      <td>42.0</td>\n      <td>2017</td>\n      <td>NaN</td>\n      <td>NaN</td>\n      <td>Residence</td>\n    </tr>\n    <tr>\n      <th>3</th>\n      <td>2017-08-26 10:00:00</td>\n      <td>Crim Sexual Assault</td>\n      <td>0</td>\n      <td>False</td>\n      <td>32.0</td>\n      <td>2017</td>\n      <td>NaN</td>\n      <td>NaN</td>\n      <td>Hotel/Motel</td>\n    </tr>\n    <tr>\n      <th>4</th>\n      <td>2015-01-01 00:01:00</td>\n      <td>Offense Involving Children</td>\n      <td>0</td>\n      <td>True</td>\n      <td>65.0</td>\n      <td>2015</td>\n      <td>NaN</td>\n      <td>NaN</td>\n      <td>Residence</td>\n    </tr>\n  </tbody>\n</table>\n</div>"
     },
     "metadata": {},
     "execution_count": 16
    }
   ],
   "source": [
    "#merging the crimes_cleaned df with the location df \n",
    "crimes_cleaned = crimes_cleaned.merge(location, how='left', \n",
    "                                      left_on='Location Description',\n",
    "                                      right_on='Original Value')\n",
    "\n",
    "#removing the original value columns\n",
    "crimes_cleaned.drop(labels=['Location Description','Original Value'],axis=1,\n",
    "                    inplace=True)\n",
    "\n",
    "#renaming the new value column as Location Description\n",
    "crimes_cleaned.rename(columns={'New Value':'Location Description'}, inplace=True)\n",
    "\n",
    "#displaying the results\n",
    "crimes_cleaned.head()"
   ]
  },
  {
   "cell_type": "markdown",
   "metadata": {},
   "source": [
    "<a id=\"community_areas\">"
   ]
  },
  {
   "cell_type": "markdown",
   "metadata": {},
   "source": [
    "## Pulling in Community Area Names and Regions"
   ]
  },
  {
   "cell_type": "code",
   "execution_count": 17,
   "metadata": {},
   "outputs": [
    {
     "output_type": "execute_result",
     "data": {
      "text/plain": [
       "   ID             Name      Region  2010 Population\n",
       "0   8  Near North Side     Central            80484\n",
       "1  32             Loop     Central            29283\n",
       "2  33  Near South Side     Central            21390\n",
       "3   5     North Center  North Side            31867\n",
       "4   6        Lake View  North Side            94368"
      ],
      "text/html": "<div>\n<style scoped>\n    .dataframe tbody tr th:only-of-type {\n        vertical-align: middle;\n    }\n\n    .dataframe tbody tr th {\n        vertical-align: top;\n    }\n\n    .dataframe thead th {\n        text-align: right;\n    }\n</style>\n<table border=\"1\" class=\"dataframe\">\n  <thead>\n    <tr style=\"text-align: right;\">\n      <th></th>\n      <th>ID</th>\n      <th>Name</th>\n      <th>Region</th>\n      <th>2010 Population</th>\n    </tr>\n  </thead>\n  <tbody>\n    <tr>\n      <th>0</th>\n      <td>8</td>\n      <td>Near North Side</td>\n      <td>Central</td>\n      <td>80484</td>\n    </tr>\n    <tr>\n      <th>1</th>\n      <td>32</td>\n      <td>Loop</td>\n      <td>Central</td>\n      <td>29283</td>\n    </tr>\n    <tr>\n      <th>2</th>\n      <td>33</td>\n      <td>Near South Side</td>\n      <td>Central</td>\n      <td>21390</td>\n    </tr>\n    <tr>\n      <th>3</th>\n      <td>5</td>\n      <td>North Center</td>\n      <td>North Side</td>\n      <td>31867</td>\n    </tr>\n    <tr>\n      <th>4</th>\n      <td>6</td>\n      <td>Lake View</td>\n      <td>North Side</td>\n      <td>94368</td>\n    </tr>\n  </tbody>\n</table>\n</div>"
     },
     "metadata": {},
     "execution_count": 17
    }
   ],
   "source": [
    "#reading in the mapping of the Community Area ID to the Name and Region\n",
    "#values from Wikipedia\n",
    "community_areas = pd.read_csv('Data/Community_Areas.csv')\n",
    "community_areas.head()"
   ]
  },
  {
   "cell_type": "code",
   "execution_count": 18,
   "metadata": {},
   "outputs": [
    {
     "output_type": "execute_result",
     "data": {
      "text/plain": [
       "                 Date                Primary Type  Arrest  Domestic  Year  \\\n",
       "0 2017-10-08 03:00:00         Crim Sexual Assault       0     False  2017   \n",
       "1 2017-03-28 14:00:00                    Burglary       0     False  2017   \n",
       "2 2017-09-09 20:17:00                       Theft       0     False  2017   \n",
       "3 2017-08-26 10:00:00         Crim Sexual Assault       0     False  2017   \n",
       "4 2015-01-01 00:01:00  Offense Involving Children       0      True  2015   \n",
       "\n",
       "   Latitude  Longitude Location Description      Community Area  \\\n",
       "0       NaN        NaN            Residence  Washington Heights   \n",
       "1       NaN        NaN                Other             Ashburn   \n",
       "2       NaN        NaN            Residence            Woodlawn   \n",
       "3       NaN        NaN          Hotel/Motel                Loop   \n",
       "4       NaN        NaN            Residence           West Lawn   \n",
       "\n",
       "               Region  2010 Population  \n",
       "0  Far Southwest Side          26493.0  \n",
       "1  Far Southwest Side          41081.0  \n",
       "2          South Side          25983.0  \n",
       "3             Central          29283.0  \n",
       "4      Southwest Side          33355.0  "
      ],
      "text/html": "<div>\n<style scoped>\n    .dataframe tbody tr th:only-of-type {\n        vertical-align: middle;\n    }\n\n    .dataframe tbody tr th {\n        vertical-align: top;\n    }\n\n    .dataframe thead th {\n        text-align: right;\n    }\n</style>\n<table border=\"1\" class=\"dataframe\">\n  <thead>\n    <tr style=\"text-align: right;\">\n      <th></th>\n      <th>Date</th>\n      <th>Primary Type</th>\n      <th>Arrest</th>\n      <th>Domestic</th>\n      <th>Year</th>\n      <th>Latitude</th>\n      <th>Longitude</th>\n      <th>Location Description</th>\n      <th>Community Area</th>\n      <th>Region</th>\n      <th>2010 Population</th>\n    </tr>\n  </thead>\n  <tbody>\n    <tr>\n      <th>0</th>\n      <td>2017-10-08 03:00:00</td>\n      <td>Crim Sexual Assault</td>\n      <td>0</td>\n      <td>False</td>\n      <td>2017</td>\n      <td>NaN</td>\n      <td>NaN</td>\n      <td>Residence</td>\n      <td>Washington Heights</td>\n      <td>Far Southwest Side</td>\n      <td>26493.0</td>\n    </tr>\n    <tr>\n      <th>1</th>\n      <td>2017-03-28 14:00:00</td>\n      <td>Burglary</td>\n      <td>0</td>\n      <td>False</td>\n      <td>2017</td>\n      <td>NaN</td>\n      <td>NaN</td>\n      <td>Other</td>\n      <td>Ashburn</td>\n      <td>Far Southwest Side</td>\n      <td>41081.0</td>\n    </tr>\n    <tr>\n      <th>2</th>\n      <td>2017-09-09 20:17:00</td>\n      <td>Theft</td>\n      <td>0</td>\n      <td>False</td>\n      <td>2017</td>\n      <td>NaN</td>\n      <td>NaN</td>\n      <td>Residence</td>\n      <td>Woodlawn</td>\n      <td>South Side</td>\n      <td>25983.0</td>\n    </tr>\n    <tr>\n      <th>3</th>\n      <td>2017-08-26 10:00:00</td>\n      <td>Crim Sexual Assault</td>\n      <td>0</td>\n      <td>False</td>\n      <td>2017</td>\n      <td>NaN</td>\n      <td>NaN</td>\n      <td>Hotel/Motel</td>\n      <td>Loop</td>\n      <td>Central</td>\n      <td>29283.0</td>\n    </tr>\n    <tr>\n      <th>4</th>\n      <td>2015-01-01 00:01:00</td>\n      <td>Offense Involving Children</td>\n      <td>0</td>\n      <td>True</td>\n      <td>2015</td>\n      <td>NaN</td>\n      <td>NaN</td>\n      <td>Residence</td>\n      <td>West Lawn</td>\n      <td>Southwest Side</td>\n      <td>33355.0</td>\n    </tr>\n  </tbody>\n</table>\n</div>"
     },
     "metadata": {},
     "execution_count": 18
    }
   ],
   "source": [
    "#merging the community area df with the reduced crimes df\n",
    "crimes_cleaned = crimes_cleaned.merge(community_areas, how='left', \n",
    "                                      left_on='Community Area',\n",
    "                                      right_on='ID')\n",
    "\n",
    "#dropping the ID columns\n",
    "crimes_cleaned.drop(labels=['Community Area','ID'],axis=1,inplace=True)\n",
    "\n",
    "#renaming the Name column as Community Area\n",
    "crimes_cleaned.rename(columns={'Name':'Community Area'}, inplace=True)\n",
    "\n",
    "#displaying the results\n",
    "crimes_cleaned.head()"
   ]
  },
  {
   "cell_type": "markdown",
   "metadata": {},
   "source": [
    "<a id=\"date_columns\">"
   ]
  },
  {
   "cell_type": "markdown",
   "metadata": {},
   "source": [
    "## Creating New Datetime Columns based on the Date of the Crime"
   ]
  },
  {
   "cell_type": "code",
   "execution_count": 19,
   "metadata": {},
   "outputs": [],
   "source": [
    "#adding a column for the month of the crime\n",
    "crimes_cleaned['Month'] = crimes_cleaned.Date.dt.month\n",
    "\n",
    "#adding a column for the day of week of the crime\n",
    "crimes_cleaned['Day of Week'] = crimes_cleaned.Date.dt.day_name()\n",
    "\n",
    "#creating index vars for time of day (morning, afternoon, evening, and night)\n",
    "morning_idx   = (crimes_cleaned.Date.dt.time >= dt.time( 5)) & (crimes_cleaned.Date.dt.time < dt.time(12)) # 5am to 12pm\n",
    "afternoon_idx = (crimes_cleaned.Date.dt.time >= dt.time(10)) & (crimes_cleaned.Date.dt.time < dt.time(17)) #12pm to  5pm\n",
    "evening_idx   = (crimes_cleaned.Date.dt.time >= dt.time(17)) & (crimes_cleaned.Date.dt.time < dt.time(20)) # 5pm to  8pm\n",
    "night_idx     = (crimes_cleaned.Date.dt.time >= dt.time(20)) | (crimes_cleaned.Date.dt.time < dt.time( 5)) # 8pm to  5am\n",
    "\n",
    "#adding a column for the time of day of the crime\n",
    "crimes_cleaned['Time of Day'] = \"\"\n",
    "crimes_cleaned.loc[morning_idx,   'Time of Day'] = \"Morning\"\n",
    "crimes_cleaned.loc[afternoon_idx, 'Time of Day'] = \"Afternoon\"\n",
    "crimes_cleaned.loc[evening_idx,   'Time of Day'] = \"Evening\"\n",
    "crimes_cleaned.loc[night_idx,     'Time of Day'] = \"Night\"\n",
    "\n",
    "#creating index vars for season of year (spring, summer, fall, winter)\n",
    "spring_idx = (crimes_cleaned.Month >=  3) & (crimes_cleaned.Month <  6)\n",
    "summer_idx = (crimes_cleaned.Month >=  6) & (crimes_cleaned.Month <  9)\n",
    "fall_idx   = (crimes_cleaned.Month >=  9) & (crimes_cleaned.Month < 12)\n",
    "winter_idx = (crimes_cleaned.Month >= 12) | (crimes_cleaned.Month <  3)\n",
    "\n",
    "#adding a column for the season the crime occurred in\n",
    "crimes_cleaned['Season'] = \"\"\n",
    "crimes_cleaned.loc[spring_idx, 'Season'] = \"Spring\"\n",
    "crimes_cleaned.loc[summer_idx, 'Season'] = \"Summer\"\n",
    "crimes_cleaned.loc[fall_idx,   'Season'] = \"Fall\"\n",
    "crimes_cleaned.loc[winter_idx, 'Season'] = \"Winter\""
   ]
  },
  {
   "cell_type": "code",
   "execution_count": 20,
   "metadata": {},
   "outputs": [
    {
     "output_type": "execute_result",
     "data": {
      "text/plain": [
       "                 Date                Primary Type  Arrest  Domestic  Year  \\\n",
       "0 2017-10-08 03:00:00         Crim Sexual Assault       0     False  2017   \n",
       "1 2017-03-28 14:00:00                    Burglary       0     False  2017   \n",
       "2 2017-09-09 20:17:00                       Theft       0     False  2017   \n",
       "3 2017-08-26 10:00:00         Crim Sexual Assault       0     False  2017   \n",
       "4 2015-01-01 00:01:00  Offense Involving Children       0      True  2015   \n",
       "\n",
       "   Latitude  Longitude Location Description      Community Area  \\\n",
       "0       NaN        NaN            Residence  Washington Heights   \n",
       "1       NaN        NaN                Other             Ashburn   \n",
       "2       NaN        NaN            Residence            Woodlawn   \n",
       "3       NaN        NaN          Hotel/Motel                Loop   \n",
       "4       NaN        NaN            Residence           West Lawn   \n",
       "\n",
       "               Region  2010 Population  Month Day of Week Time of Day  Season  \n",
       "0  Far Southwest Side          26493.0     10      Sunday       Night    Fall  \n",
       "1  Far Southwest Side          41081.0      3     Tuesday   Afternoon  Spring  \n",
       "2          South Side          25983.0      9    Saturday       Night    Fall  \n",
       "3             Central          29283.0      8    Saturday   Afternoon  Summer  \n",
       "4      Southwest Side          33355.0      1    Thursday       Night  Winter  "
      ],
      "text/html": "<div>\n<style scoped>\n    .dataframe tbody tr th:only-of-type {\n        vertical-align: middle;\n    }\n\n    .dataframe tbody tr th {\n        vertical-align: top;\n    }\n\n    .dataframe thead th {\n        text-align: right;\n    }\n</style>\n<table border=\"1\" class=\"dataframe\">\n  <thead>\n    <tr style=\"text-align: right;\">\n      <th></th>\n      <th>Date</th>\n      <th>Primary Type</th>\n      <th>Arrest</th>\n      <th>Domestic</th>\n      <th>Year</th>\n      <th>Latitude</th>\n      <th>Longitude</th>\n      <th>Location Description</th>\n      <th>Community Area</th>\n      <th>Region</th>\n      <th>2010 Population</th>\n      <th>Month</th>\n      <th>Day of Week</th>\n      <th>Time of Day</th>\n      <th>Season</th>\n    </tr>\n  </thead>\n  <tbody>\n    <tr>\n      <th>0</th>\n      <td>2017-10-08 03:00:00</td>\n      <td>Crim Sexual Assault</td>\n      <td>0</td>\n      <td>False</td>\n      <td>2017</td>\n      <td>NaN</td>\n      <td>NaN</td>\n      <td>Residence</td>\n      <td>Washington Heights</td>\n      <td>Far Southwest Side</td>\n      <td>26493.0</td>\n      <td>10</td>\n      <td>Sunday</td>\n      <td>Night</td>\n      <td>Fall</td>\n    </tr>\n    <tr>\n      <th>1</th>\n      <td>2017-03-28 14:00:00</td>\n      <td>Burglary</td>\n      <td>0</td>\n      <td>False</td>\n      <td>2017</td>\n      <td>NaN</td>\n      <td>NaN</td>\n      <td>Other</td>\n      <td>Ashburn</td>\n      <td>Far Southwest Side</td>\n      <td>41081.0</td>\n      <td>3</td>\n      <td>Tuesday</td>\n      <td>Afternoon</td>\n      <td>Spring</td>\n    </tr>\n    <tr>\n      <th>2</th>\n      <td>2017-09-09 20:17:00</td>\n      <td>Theft</td>\n      <td>0</td>\n      <td>False</td>\n      <td>2017</td>\n      <td>NaN</td>\n      <td>NaN</td>\n      <td>Residence</td>\n      <td>Woodlawn</td>\n      <td>South Side</td>\n      <td>25983.0</td>\n      <td>9</td>\n      <td>Saturday</td>\n      <td>Night</td>\n      <td>Fall</td>\n    </tr>\n    <tr>\n      <th>3</th>\n      <td>2017-08-26 10:00:00</td>\n      <td>Crim Sexual Assault</td>\n      <td>0</td>\n      <td>False</td>\n      <td>2017</td>\n      <td>NaN</td>\n      <td>NaN</td>\n      <td>Hotel/Motel</td>\n      <td>Loop</td>\n      <td>Central</td>\n      <td>29283.0</td>\n      <td>8</td>\n      <td>Saturday</td>\n      <td>Afternoon</td>\n      <td>Summer</td>\n    </tr>\n    <tr>\n      <th>4</th>\n      <td>2015-01-01 00:01:00</td>\n      <td>Offense Involving Children</td>\n      <td>0</td>\n      <td>True</td>\n      <td>2015</td>\n      <td>NaN</td>\n      <td>NaN</td>\n      <td>Residence</td>\n      <td>West Lawn</td>\n      <td>Southwest Side</td>\n      <td>33355.0</td>\n      <td>1</td>\n      <td>Thursday</td>\n      <td>Night</td>\n      <td>Winter</td>\n    </tr>\n  </tbody>\n</table>\n</div>"
     },
     "metadata": {},
     "execution_count": 20
    }
   ],
   "source": [
    "crimes_cleaned.head()"
   ]
  },
  {
   "cell_type": "markdown",
   "metadata": {},
   "source": [
    "<a id=\"saving\">"
   ]
  },
  {
   "cell_type": "markdown",
   "metadata": {},
   "source": [
    "<a id=\"nulls\">"
   ]
  },
  {
   "cell_type": "markdown",
   "metadata": {},
   "source": [
    "## Dropping Nulls from the Dataset\n",
    "Because of the relatively small number of rows with null values, I'm going to drop all rows with nulls."
   ]
  },
  {
   "cell_type": "code",
   "execution_count": 24,
   "metadata": {
    "scrolled": true
   },
   "outputs": [
    {
     "output_type": "stream",
     "name": "stdout",
     "text": [
      "Number of Rows: 2,977,816\n",
      "\n",
      "Date has 0 nulls\n",
      "Primary Type has 0 nulls\n",
      "Arrest has 0 nulls\n",
      "Domestic has 0 nulls\n",
      "Year has 0 nulls\n",
      "Location has 23,015 nulls\n",
      "Location Description has 7,896 nulls\n",
      "Community Area has 406 nulls\n",
      "Region has 406 nulls\n",
      "2010 Population has 406 nulls\n",
      "Month has 0 nulls\n",
      "Day of Week has 0 nulls\n",
      "Time of Day has 0 nulls\n",
      "Season has 0 nulls\n"
     ]
    }
   ],
   "source": [
    "print(\"Number of Rows: {:,d}\".format(crimes_cleaned.shape[0]))\n",
    "print()\n",
    "for col in crimes_cleaned.columns:\n",
    "    print(\"{} has {:,d} nulls\".format(col,crimes_cleaned[col].isna().sum()))"
   ]
  },
  {
   "cell_type": "code",
   "execution_count": 25,
   "metadata": {},
   "outputs": [
    {
     "output_type": "stream",
     "name": "stdout",
     "text": [
      "Number of Rows: 2,949,016\n",
      "\n",
      "Date has 0 nulls\n",
      "Primary Type has 0 nulls\n",
      "Arrest has 0 nulls\n",
      "Domestic has 0 nulls\n",
      "Year has 0 nulls\n",
      "Location has 0 nulls\n",
      "Location Description has 0 nulls\n",
      "Community Area has 0 nulls\n",
      "Region has 0 nulls\n",
      "2010 Population has 0 nulls\n",
      "Month has 0 nulls\n",
      "Day of Week has 0 nulls\n",
      "Time of Day has 0 nulls\n",
      "Season has 0 nulls\n"
     ]
    }
   ],
   "source": [
    "crimes_cleaned.dropna(inplace=True,axis=0)\n",
    "\n",
    "print(\"Number of Rows: {:,d}\".format(crimes_cleaned.shape[0]))\n",
    "print()\n",
    "for col in crimes_cleaned.columns:\n",
    "    print(\"{} has {:,d} nulls\".format(col,crimes_cleaned[col].isna().sum()))"
   ]
  },
  {
   "cell_type": "markdown",
   "metadata": {},
   "source": [
    "## Saving the Cleaned Dataset"
   ]
  },
  {
   "cell_type": "code",
   "execution_count": 26,
   "metadata": {},
   "outputs": [],
   "source": [
    "crimes_cleaned.to_csv(\"Data/crimes_cleaned.csv\", index=False)"
   ]
  }
 ],
 "metadata": {
  "kernelspec": {
   "display_name": "Python 3",
   "language": "python",
   "name": "python3"
  },
  "language_info": {
   "codemirror_mode": {
    "name": "ipython",
    "version": 3
   },
   "file_extension": ".py",
   "mimetype": "text/x-python",
   "name": "python",
   "nbconvert_exporter": "python",
   "pygments_lexer": "ipython3",
   "version": "3.8.6-candidate"
  }
 },
 "nbformat": 4,
 "nbformat_minor": 2
}