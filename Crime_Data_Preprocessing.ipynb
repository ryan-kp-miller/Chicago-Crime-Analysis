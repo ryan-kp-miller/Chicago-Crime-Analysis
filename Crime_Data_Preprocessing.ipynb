{
 "cells": [
  {
   "cell_type": "markdown",
   "metadata": {},
   "source": [
    "# Crime Data Preprocessing\n",
    "As of 3/10/2020, the [dataset](https://data.cityofchicago.org/Public-Safety/Crimes-2001-to-present/ijzp-q8t2) provided by the city of Chicago on crime (excluding murders) contains over 7 millions rows and 22 columns. To facilitate early exploration of the data and focus on more recent, relevant trends, I reduced the dataset to the last 10 years, removed unneeded columns, and dropped rows with nulls. The reduced dataset contained just under 3 million rows of crimes  \n",
    "  \n",
    "After reducing the size of the dataset, I cleaned up the text columns by manually matching values of each column with a smaller subset of categories in excel, mapped the Community Area ID's to their name and group (e.g. Community Area 8 maps to Near North Side and Central) based on [this](https://en.wikipedia.org/wiki/Community_areas_in_Chicago) Wikipedia page, and added some categorical columns based on the date of the crime.  "
   ]
  },
  {
   "cell_type": "markdown",
   "metadata": {},
   "source": [
    "## Table of Contents\n",
    "- [Dataset Description](#original_desc)  \n",
    "- [Reading in the Original Dataset](#read_in)  \n",
    "- [Removing Crimes from before 10 Years Ago](#remove_10_years)  \n",
    "- [Removing Unneeded Columns](#unneeded_columns)\n",
    "- [Cleaning Up Text Columns](#clean_up)\n",
    "- [Pulling in Community Area Names and Regions](#community_areas)\n",
    "- [Creating New Datetime Columns based on the Date of the Crime](#date_columns)\n",
    "- [Dropping Nulls from the Dataset](#nulls)\n",
    "- [Saving the Cleaned Dataset](#saving)"
   ]
  },
  {
   "cell_type": "markdown",
   "metadata": {},
   "source": [
    "<a id=\"original_desc\">  "
   ]
  },
  {
   "cell_type": "markdown",
   "metadata": {},
   "source": [
    "## Dataset Description:\n",
    "These are the original column descriptions from the City of Chicago \n",
    "[website](https://data.cityofchicago.org/Public-Safety/Crimes-2001-to-present/ijzp-q8t2)  "
   ]
  },
  {
   "cell_type": "markdown",
   "metadata": {},
   "source": [
    "| Column Name  | Column Description |  \n",
    "| :-:    | :-: |  \n",
    "| ID           | Unique identifier for the record |\n",
    "| Case Number  | The Chicago Police Department Records Division Number |\n",
    "| Date         | Date when the incident occurred (sometimes an estimate) |\n",
    "| Block        | The partially redacted address where the incident occurred, placing it on the same block as the actual address |\n",
    "| IUCR         | Illinois Uniform Crime Reporting code |\n",
    "| Primary Type | The primary description of the IUCR code |\n",
    "| Description  | The secondary description of the IUCR code, a subcategory of the primary description |\n",
    "| Location Description | Description of the location where the incident occurred |\n",
    "| Arrest | Indicates whether an arrest was made |\n",
    "| Domestic | Indicates whether the incident was domestic-related as defined by the Illinois Domestic Violence act |\n",
    "| Beat | Indicates the beat where the incident occurred. A beat is the smallest police geographic area. 3 to 5 beats make up a police sector, and 3 sectors make up a police district |\n",
    "| District | Indicates the police district where the incident occurred |\n",
    "| Ward | The ward (City Council district) where the incident occurred |\n",
    "| Community Area | Indicates the community area where the incident occurred (Chicago has 77 community areas) |\n",
    "| FBI Code | Indicates the crime classification as outlined in the FBI's National Incident-Based Reporting System (NIBRS) |\n",
    "| X Coordinate | The x coordinate of the location where the incident occurred in State Plane Illinois East NAD 1983 projection. This location is shifted from the actual location for partial redaction but falls on the same block |\n",
    "| Y Coordinate | The y coordinate of the location where the incident occurred in State Plane Illinois East NAD 1983 projection. This location is shifted from the actual location for partial redaction but falls on the same block |\n",
    "| Year | The year the incident occurred |\n",
    "| Updated On | Date and time the record was last updated |\n",
    "| Latitude | The latitude of the location where the incident occurred. This location is shifted from the actual location for partial redaction but falls on the same block |\n",
    "| Longitude | The longitude of the location where the incident occurred. This location is shifted from the actual location for partial redaction but falls on the same block |\n",
    "| Location | The location where the incident occurred in a format that allows for creation of maps and other geographic operations on this data portal. This location is shifted from the actual location for partial redaction but falls on the same block |"
   ]
  },
  {
   "cell_type": "markdown",
   "metadata": {},
   "source": [
    "<a id=\"read_in\">"
   ]
  },
  {
   "cell_type": "markdown",
   "metadata": {},
   "source": [
    "## Reading in the Original Dataset"
   ]
  },
  {
   "cell_type": "code",
   "execution_count": 1,
   "metadata": {},
   "outputs": [],
   "source": [
    "import pandas as pd\n",
    "import datetime as dt"
   ]
  },
  {
   "cell_type": "code",
   "execution_count": 2,
   "metadata": {
    "scrolled": true
   },
   "outputs": [
    {
     "name": "stderr",
     "output_type": "stream",
     "text": [
      "C:\\Users\\rmill\\Anaconda3\\lib\\site-packages\\IPython\\core\\interactiveshell.py:3049: DtypeWarning: Columns (21) have mixed types. Specify dtype option on import or set low_memory=False.\n",
      "  interactivity=interactivity, compiler=compiler, result=result)\n"
     ]
    }
   ],
   "source": [
    "crimes = pd.read_csv('crimes_original.csv')"
   ]
  },
  {
   "cell_type": "code",
   "execution_count": 3,
   "metadata": {},
   "outputs": [
    {
     "name": "stdout",
     "output_type": "stream",
     "text": [
      "There were 7,084,356 of Crimes from 01/01/2001 01:00:00 AM to 12/31/2019 12:58:00 AM\n"
     ]
    }
   ],
   "source": [
    "print(\"There were {:,d} of Crimes from {} to {}\".format(crimes.shape[0],\n",
    "                                                        crimes.Date.min(),\n",
    "                                                        crimes.Date.max()))"
   ]
  },
  {
   "cell_type": "markdown",
   "metadata": {},
   "source": [
    "<a id=\"remove_10_years\">"
   ]
  },
  {
   "cell_type": "markdown",
   "metadata": {},
   "source": [
    "## Removing Crimes from Before 10 Years Ago"
   ]
  },
  {
   "cell_type": "code",
   "execution_count": 4,
   "metadata": {
    "scrolled": false
   },
   "outputs": [
    {
     "name": "stdout",
     "output_type": "stream",
     "text": [
      "There were 3,007,770 of Crimes from 01/01/2010 01:00:00 AM to 12/31/2019 12:58:00 AM\n"
     ]
    }
   ],
   "source": [
    "#removing crimes from over 10 years ago\n",
    "crimes_cleaned = crimes[crimes.Year >= 2010].copy()\n",
    "\n",
    "#displaying the results\n",
    "print(\"There were {:,d} of Crimes from {} to {}\".format(crimes_cleaned.shape[0],\n",
    "                                                        crimes_cleaned.Date.min(),\n",
    "                                                        crimes_cleaned.Date.max()))"
   ]
  },
  {
   "cell_type": "markdown",
   "metadata": {},
   "source": [
    "<a id=\"unneeded_columns\">"
   ]
  },
  {
   "cell_type": "markdown",
   "metadata": {},
   "source": [
    "## Removing Unneeded Columns"
   ]
  },
  {
   "cell_type": "code",
   "execution_count": 5,
   "metadata": {},
   "outputs": [
    {
     "data": {
      "text/html": [
       "<div>\n",
       "<style scoped>\n",
       "    .dataframe tbody tr th:only-of-type {\n",
       "        vertical-align: middle;\n",
       "    }\n",
       "\n",
       "    .dataframe tbody tr th {\n",
       "        vertical-align: top;\n",
       "    }\n",
       "\n",
       "    .dataframe thead th {\n",
       "        text-align: right;\n",
       "    }\n",
       "</style>\n",
       "<table border=\"1\" class=\"dataframe\">\n",
       "  <thead>\n",
       "    <tr style=\"text-align: right;\">\n",
       "      <th></th>\n",
       "      <th>Date</th>\n",
       "      <th>Primary Type</th>\n",
       "      <th>Location Description</th>\n",
       "      <th>Arrest</th>\n",
       "      <th>Domestic</th>\n",
       "      <th>Community Area</th>\n",
       "      <th>Year</th>\n",
       "      <th>Location</th>\n",
       "    </tr>\n",
       "  </thead>\n",
       "  <tbody>\n",
       "    <tr>\n",
       "      <th>1</th>\n",
       "      <td>10/08/2017 03:00:00 AM</td>\n",
       "      <td>CRIM SEXUAL ASSAULT</td>\n",
       "      <td>RESIDENCE</td>\n",
       "      <td>False</td>\n",
       "      <td>False</td>\n",
       "      <td>73.0</td>\n",
       "      <td>2017</td>\n",
       "      <td>NaN</td>\n",
       "    </tr>\n",
       "    <tr>\n",
       "      <th>2</th>\n",
       "      <td>03/28/2017 02:00:00 PM</td>\n",
       "      <td>BURGLARY</td>\n",
       "      <td>OTHER</td>\n",
       "      <td>False</td>\n",
       "      <td>False</td>\n",
       "      <td>70.0</td>\n",
       "      <td>2017</td>\n",
       "      <td>NaN</td>\n",
       "    </tr>\n",
       "    <tr>\n",
       "      <th>3</th>\n",
       "      <td>09/09/2017 08:17:00 PM</td>\n",
       "      <td>THEFT</td>\n",
       "      <td>RESIDENCE</td>\n",
       "      <td>False</td>\n",
       "      <td>False</td>\n",
       "      <td>42.0</td>\n",
       "      <td>2017</td>\n",
       "      <td>NaN</td>\n",
       "    </tr>\n",
       "    <tr>\n",
       "      <th>4</th>\n",
       "      <td>08/26/2017 10:00:00 AM</td>\n",
       "      <td>CRIM SEXUAL ASSAULT</td>\n",
       "      <td>HOTEL/MOTEL</td>\n",
       "      <td>False</td>\n",
       "      <td>False</td>\n",
       "      <td>32.0</td>\n",
       "      <td>2017</td>\n",
       "      <td>NaN</td>\n",
       "    </tr>\n",
       "    <tr>\n",
       "      <th>5</th>\n",
       "      <td>02/10/2013 12:00:00 AM</td>\n",
       "      <td>CRIM SEXUAL ASSAULT</td>\n",
       "      <td>RESIDENCE</td>\n",
       "      <td>False</td>\n",
       "      <td>False</td>\n",
       "      <td>69.0</td>\n",
       "      <td>2013</td>\n",
       "      <td>NaN</td>\n",
       "    </tr>\n",
       "  </tbody>\n",
       "</table>\n",
       "</div>"
      ],
      "text/plain": [
       "                     Date         Primary Type Location Description  Arrest  \\\n",
       "1  10/08/2017 03:00:00 AM  CRIM SEXUAL ASSAULT            RESIDENCE   False   \n",
       "2  03/28/2017 02:00:00 PM             BURGLARY                OTHER   False   \n",
       "3  09/09/2017 08:17:00 PM                THEFT            RESIDENCE   False   \n",
       "4  08/26/2017 10:00:00 AM  CRIM SEXUAL ASSAULT          HOTEL/MOTEL   False   \n",
       "5  02/10/2013 12:00:00 AM  CRIM SEXUAL ASSAULT            RESIDENCE   False   \n",
       "\n",
       "   Domestic  Community Area  Year Location  \n",
       "1     False            73.0  2017      NaN  \n",
       "2     False            70.0  2017      NaN  \n",
       "3     False            42.0  2017      NaN  \n",
       "4     False            32.0  2017      NaN  \n",
       "5     False            69.0  2013      NaN  "
      ]
     },
     "execution_count": 5,
     "metadata": {},
     "output_type": "execute_result"
    }
   ],
   "source": [
    "#creating a list of the columns to drop\n",
    "drop_cols = ['ID','Case Number', 'Block', 'Description', \n",
    "             'Beat', 'District', 'Ward', 'IUCR', 'FBI Code', \n",
    "             'X Coordinate', 'Y Coordinate', 'Latitude', 'Longitude', \n",
    "             'Updated On']\n",
    "\n",
    "#dropping the columns\n",
    "crimes_cleaned.drop(labels=drop_cols, axis=1, inplace=True)\n",
    "\n",
    "#displaying the results\n",
    "crimes_cleaned.head()"
   ]
  },
  {
   "cell_type": "markdown",
   "metadata": {},
   "source": [
    "<a id=\"clean_up\">"
   ]
  },
  {
   "cell_type": "markdown",
   "metadata": {},
   "source": [
    "## Cleaning Up Text Columns"
   ]
  },
  {
   "cell_type": "markdown",
   "metadata": {},
   "source": [
    "### Primary Type"
   ]
  },
  {
   "cell_type": "code",
   "execution_count": 6,
   "metadata": {},
   "outputs": [
    {
     "data": {
      "text/plain": [
       "array(['CRIM SEXUAL ASSAULT', 'BURGLARY', 'THEFT',\n",
       "       'OFFENSE INVOLVING CHILDREN', 'DECEPTIVE PRACTICE',\n",
       "       'CRIMINAL DAMAGE', 'OTHER OFFENSE', 'SEX OFFENSE', 'ASSAULT',\n",
       "       'NARCOTICS', 'ROBBERY', 'CRIMINAL TRESPASS', 'WEAPONS VIOLATION',\n",
       "       'MOTOR VEHICLE THEFT', 'BATTERY', 'OBSCENITY',\n",
       "       'LIQUOR LAW VIOLATION', 'PROSTITUTION', 'NON-CRIMINAL',\n",
       "       'PUBLIC PEACE VIOLATION', 'INTIMIDATION', 'ARSON', 'STALKING',\n",
       "       'INTERFERENCE WITH PUBLIC OFFICER',\n",
       "       'CONCEALED CARRY LICENSE VIOLATION', 'KIDNAPPING',\n",
       "       'HUMAN TRAFFICKING', 'HOMICIDE', 'GAMBLING', 'PUBLIC INDECENCY',\n",
       "       'OTHER NARCOTIC VIOLATION', 'NON - CRIMINAL',\n",
       "       'NON-CRIMINAL (SUBJECT SPECIFIED)'], dtype=object)"
      ]
     },
     "execution_count": 6,
     "metadata": {},
     "output_type": "execute_result"
    }
   ],
   "source": [
    "#original values\n",
    "crimes_cleaned['Primary Type'].unique()"
   ]
  },
  {
   "cell_type": "code",
   "execution_count": 7,
   "metadata": {},
   "outputs": [
    {
     "data": {
      "text/plain": [
       "array(['Crim Sexual Assault', 'Burglary', 'Theft',\n",
       "       'Offense Involving Children', 'Deceptive Practice',\n",
       "       'Criminal Damage', 'Other Offense', 'Sex Offense', 'Assault',\n",
       "       'Narcotics', 'Robbery', 'Criminal Trespass', 'Weapons Violation',\n",
       "       'Motor Vehicle Theft', 'Battery', 'Obscenity',\n",
       "       'Liquor Law Violation', 'Prostitution', 'Non-Criminal',\n",
       "       'Public Peace Violation', 'Intimidation', 'Arson', 'Stalking',\n",
       "       'Interference With Public Officer',\n",
       "       'Concealed Carry License Violation', 'Kidnapping',\n",
       "       'Human Trafficking', 'Homicide', 'Gambling', 'Public Indecency',\n",
       "       'Other Narcotic Violation'], dtype=object)"
      ]
     },
     "execution_count": 7,
     "metadata": {},
     "output_type": "execute_result"
    }
   ],
   "source": [
    "#list of other values to group under \"NON-CRIMINAL\"\n",
    "non_criminal_list = ['NON - CRIMINAL','NON-CRIMINAL (SUBJECT SPECIFIED)']\n",
    "\n",
    "#replacing the other values with \"NON-CRIMINAL\"\n",
    "crimes_cleaned['Primary Type'].replace(to_replace = non_criminal_list,\n",
    "                                       value='NON-CRIMINAL', regex=False,\n",
    "                                       inplace=True)\n",
    "\n",
    "#Converting values to title case\n",
    "crimes_cleaned['Primary Type'] = crimes_cleaned['Primary Type'].str.title()\n",
    "\n",
    "#displaying the results\n",
    "crimes_cleaned['Primary Type'].unique()"
   ]
  },
  {
   "cell_type": "markdown",
   "metadata": {},
   "source": [
    "### Location Description"
   ]
  },
  {
   "cell_type": "code",
   "execution_count": 8,
   "metadata": {},
   "outputs": [
    {
     "data": {
      "text/plain": [
       "array(['RESIDENCE', 'OTHER', 'HOTEL/MOTEL', nan, 'APARTMENT', 'SIDEWALK',\n",
       "       'PARKING LOT/GARAGE(NON.RESID.)', 'RESIDENCE-GARAGE',\n",
       "       'HOSPITAL BUILDING/GROUNDS', 'BANK', 'RESTAURANT',\n",
       "       'SCHOOL, PUBLIC, BUILDING', 'STREET',\n",
       "       'AIRPORT BUILDING NON-TERMINAL - SECURE AREA',\n",
       "       'RESIDENCE PORCH/HALLWAY', 'RESIDENTIAL YARD (FRONT/BACK)',\n",
       "       'BAR OR TAVERN', 'AIRPORT TERMINAL LOWER LEVEL - NON-SECURE AREA',\n",
       "       'DEPARTMENT STORE', 'ALLEY', 'VEHICLE NON-COMMERCIAL',\n",
       "       'GOVERNMENT BUILDING/PROPERTY', 'AUTO / BOAT / RV DEALERSHIP',\n",
       "       'VACANT LOT/LAND', 'WAREHOUSE', 'POOL ROOM',\n",
       "       'COMMERCIAL / BUSINESS OFFICE', 'POLICE FACILITY/VEH PARKING LOT',\n",
       "       'PARK PROPERTY', 'MEDICAL/DENTAL OFFICE', 'BOAT/WATERCRAFT',\n",
       "       'GROCERY FOOD STORE', 'CTA STATION', 'CONVENIENCE STORE',\n",
       "       'ATHLETIC CLUB', 'SMALL RETAIL STORE', 'AIRPORT/AIRCRAFT',\n",
       "       'ANIMAL HOSPITAL', 'ATM (AUTOMATIC TELLER MACHINE)', 'CTA BUS',\n",
       "       'CURRENCY EXCHANGE', 'DRIVEWAY - RESIDENTIAL',\n",
       "       'AIRPORT TERMINAL UPPER LEVEL - NON-SECURE AREA',\n",
       "       'CONSTRUCTION SITE', 'SPORTS ARENA/STADIUM',\n",
       "       'FACTORY/MANUFACTURING BUILDING', 'LIBRARY', 'GAS STATION',\n",
       "       'CTA PLATFORM', 'CTA TRAIN', 'CHURCH/SYNAGOGUE/PLACE OF WORSHIP',\n",
       "       'AIRPORT VENDING ESTABLISHMENT', 'SCHOOL, PRIVATE, BUILDING',\n",
       "       'NURSING HOME/RETIREMENT HOME', 'BRIDGE', 'PAWN SHOP',\n",
       "       'OTHER RAILROAD PROP / TRAIN DEPOT', 'CHA PARKING LOT/GROUNDS',\n",
       "       'CTA GARAGE / OTHER PROPERTY', 'COLLEGE/UNIVERSITY GROUNDS',\n",
       "       'CAR WASH', 'AIRPORT EXTERIOR - NON-SECURE AREA',\n",
       "       'JAIL / LOCK-UP FACILITY', 'SCHOOL, PUBLIC, GROUNDS',\n",
       "       'AIRPORT TERMINAL UPPER LEVEL - SECURE AREA', 'AIRCRAFT',\n",
       "       'DRUG STORE', 'TAVERN/LIQUOR STORE', 'CHA APARTMENT',\n",
       "       'LAKEFRONT/WATERFRONT/RIVERBANK',\n",
       "       'AIRPORT BUILDING NON-TERMINAL - NON-SECURE AREA',\n",
       "       'OTHER COMMERCIAL TRANSPORTATION', 'SCHOOL, PRIVATE, GROUNDS',\n",
       "       'CTA BUS STOP', 'COLLEGE/UNIVERSITY RESIDENCE HALL',\n",
       "       'MOVIE HOUSE/THEATER', 'AIRPORT EXTERIOR - SECURE AREA',\n",
       "       'HIGHWAY/EXPRESSWAY', 'AIRPORT TERMINAL LOWER LEVEL - SECURE AREA',\n",
       "       'ABANDONED BUILDING', 'TAXICAB', 'DAY CARE CENTER',\n",
       "       'VEHICLE-COMMERCIAL', 'AIRPORT TRANSPORTATION SYSTEM (ATS)',\n",
       "       'FEDERAL BUILDING', 'FIRE STATION', 'BOWLING ALLEY',\n",
       "       'VEHICLE - OTHER RIDE SERVICE', 'CHA HALLWAY/STAIRWELL/ELEVATOR',\n",
       "       'AIRPORT TERMINAL MEZZANINE - NON-SECURE AREA', 'CREDIT UNION',\n",
       "       'APPLIANCE STORE', 'BARBERSHOP',\n",
       "       'VEHICLE - OTHER RIDE SHARE SERVICE (E.G., UBER, LYFT)',\n",
       "       'VEHICLE - DELIVERY TRUCK', 'AIRPORT PARKING LOT',\n",
       "       'COIN OPERATED MACHINE', 'SAVINGS AND LOAN', 'CEMETARY',\n",
       "       'CTA TRACKS - RIGHT OF WAY', 'CLEANING STORE', 'PARKING LOT',\n",
       "       'PORCH', 'HOUSE', 'AUTO', 'RETAIL STORE', 'CHA GROUNDS', 'YARD',\n",
       "       'KENNEL', 'FARM', 'VEHICLE-COMMERCIAL - TROLLEY BUS',\n",
       "       'RAILROAD PROPERTY', 'FOREST PRESERVE', 'VACANT LOT',\n",
       "       'CTA \"L\" PLATFORM', 'NEWSSTAND', 'TRAILER', 'GANGWAY',\n",
       "       'BARBER SHOP/BEAUTY SALON', 'GARAGE', 'HOTEL', 'STAIRWELL',\n",
       "       'VEHICLE-COMMERCIAL - ENTERTAINMENT/PARTY BUS', 'CHA PARKING LOT',\n",
       "       'HALLWAY', 'CTA SUBWAY STATION', 'HORSE STABLE', 'DRIVEWAY',\n",
       "       'CTA PROPERTY', 'VESTIBULE', 'TAVERN', 'LIQUOR STORE', 'MOTEL',\n",
       "       'LAKE', 'CLUB', 'BASEMENT', 'GAS STATION DRIVE/PROP.',\n",
       "       'CHA PLAY LOT', 'PUBLIC HIGH SCHOOL', 'TAXI CAB', 'SCHOOL YARD',\n",
       "       'RIVER', 'CHURCH PROPERTY', 'GARAGE/AUTO REPAIR', 'NURSING HOME',\n",
       "       'SEWER', 'GOVERNMENT BUILDING', 'OFFICE', 'TRUCK', 'ELEVATOR',\n",
       "       'POOLROOM', 'LAUNDRY ROOM', 'CLEANERS/LAUNDROMAT',\n",
       "       'EXPRESSWAY EMBANKMENT', 'HOSPITAL', 'CTA \"L\" TRAIN', 'LAGOON',\n",
       "       'CHA HALLWAY', 'CHURCH', 'RIVER BANK', 'ROOMING HOUSE', 'YMCA',\n",
       "       'WOODED AREA', 'DELIVERY TRUCK'], dtype=object)"
      ]
     },
     "execution_count": 8,
     "metadata": {},
     "output_type": "execute_result"
    }
   ],
   "source": [
    "#original values of Location Description\n",
    "crimes_cleaned['Location Description'].unique()"
   ]
  },
  {
   "cell_type": "code",
   "execution_count": 9,
   "metadata": {},
   "outputs": [
    {
     "data": {
      "text/html": [
       "<div>\n",
       "<style scoped>\n",
       "    .dataframe tbody tr th:only-of-type {\n",
       "        vertical-align: middle;\n",
       "    }\n",
       "\n",
       "    .dataframe tbody tr th {\n",
       "        vertical-align: top;\n",
       "    }\n",
       "\n",
       "    .dataframe thead th {\n",
       "        text-align: right;\n",
       "    }\n",
       "</style>\n",
       "<table border=\"1\" class=\"dataframe\">\n",
       "  <thead>\n",
       "    <tr style=\"text-align: right;\">\n",
       "      <th></th>\n",
       "      <th>Original Value</th>\n",
       "      <th>New Value</th>\n",
       "    </tr>\n",
       "  </thead>\n",
       "  <tbody>\n",
       "    <tr>\n",
       "      <th>0</th>\n",
       "      <td>RESIDENCE</td>\n",
       "      <td>Residence</td>\n",
       "    </tr>\n",
       "    <tr>\n",
       "      <th>1</th>\n",
       "      <td>OTHER</td>\n",
       "      <td>Other</td>\n",
       "    </tr>\n",
       "    <tr>\n",
       "      <th>2</th>\n",
       "      <td>HOTEL/MOTEL</td>\n",
       "      <td>Hotel/Motel</td>\n",
       "    </tr>\n",
       "    <tr>\n",
       "      <th>3</th>\n",
       "      <td>APARTMENT</td>\n",
       "      <td>Residence</td>\n",
       "    </tr>\n",
       "    <tr>\n",
       "      <th>4</th>\n",
       "      <td>SIDEWALK</td>\n",
       "      <td>Sidewalk</td>\n",
       "    </tr>\n",
       "  </tbody>\n",
       "</table>\n",
       "</div>"
      ],
      "text/plain": [
       "  Original Value    New Value\n",
       "0      RESIDENCE    Residence\n",
       "1          OTHER        Other\n",
       "2    HOTEL/MOTEL  Hotel/Motel\n",
       "3      APARTMENT    Residence\n",
       "4       SIDEWALK     Sidewalk"
      ]
     },
     "execution_count": 9,
     "metadata": {},
     "output_type": "execute_result"
    }
   ],
   "source": [
    "#reading in manual mapping of unique original values to new ones\n",
    "location = pd.read_csv('Location.csv')\n",
    "location.head()"
   ]
  },
  {
   "cell_type": "code",
   "execution_count": 10,
   "metadata": {},
   "outputs": [
    {
     "data": {
      "text/html": [
       "<div>\n",
       "<style scoped>\n",
       "    .dataframe tbody tr th:only-of-type {\n",
       "        vertical-align: middle;\n",
       "    }\n",
       "\n",
       "    .dataframe tbody tr th {\n",
       "        vertical-align: top;\n",
       "    }\n",
       "\n",
       "    .dataframe thead th {\n",
       "        text-align: right;\n",
       "    }\n",
       "</style>\n",
       "<table border=\"1\" class=\"dataframe\">\n",
       "  <thead>\n",
       "    <tr style=\"text-align: right;\">\n",
       "      <th></th>\n",
       "      <th>Date</th>\n",
       "      <th>Primary Type</th>\n",
       "      <th>Arrest</th>\n",
       "      <th>Domestic</th>\n",
       "      <th>Community Area</th>\n",
       "      <th>Year</th>\n",
       "      <th>Location</th>\n",
       "      <th>Location Description</th>\n",
       "    </tr>\n",
       "  </thead>\n",
       "  <tbody>\n",
       "    <tr>\n",
       "      <th>0</th>\n",
       "      <td>10/08/2017 03:00:00 AM</td>\n",
       "      <td>Crim Sexual Assault</td>\n",
       "      <td>False</td>\n",
       "      <td>False</td>\n",
       "      <td>73.0</td>\n",
       "      <td>2017</td>\n",
       "      <td>NaN</td>\n",
       "      <td>Residence</td>\n",
       "    </tr>\n",
       "    <tr>\n",
       "      <th>1</th>\n",
       "      <td>03/28/2017 02:00:00 PM</td>\n",
       "      <td>Burglary</td>\n",
       "      <td>False</td>\n",
       "      <td>False</td>\n",
       "      <td>70.0</td>\n",
       "      <td>2017</td>\n",
       "      <td>NaN</td>\n",
       "      <td>Other</td>\n",
       "    </tr>\n",
       "    <tr>\n",
       "      <th>2</th>\n",
       "      <td>09/09/2017 08:17:00 PM</td>\n",
       "      <td>Theft</td>\n",
       "      <td>False</td>\n",
       "      <td>False</td>\n",
       "      <td>42.0</td>\n",
       "      <td>2017</td>\n",
       "      <td>NaN</td>\n",
       "      <td>Residence</td>\n",
       "    </tr>\n",
       "    <tr>\n",
       "      <th>3</th>\n",
       "      <td>08/26/2017 10:00:00 AM</td>\n",
       "      <td>Crim Sexual Assault</td>\n",
       "      <td>False</td>\n",
       "      <td>False</td>\n",
       "      <td>32.0</td>\n",
       "      <td>2017</td>\n",
       "      <td>NaN</td>\n",
       "      <td>Hotel/Motel</td>\n",
       "    </tr>\n",
       "    <tr>\n",
       "      <th>4</th>\n",
       "      <td>02/10/2013 12:00:00 AM</td>\n",
       "      <td>Crim Sexual Assault</td>\n",
       "      <td>False</td>\n",
       "      <td>False</td>\n",
       "      <td>69.0</td>\n",
       "      <td>2013</td>\n",
       "      <td>NaN</td>\n",
       "      <td>Residence</td>\n",
       "    </tr>\n",
       "  </tbody>\n",
       "</table>\n",
       "</div>"
      ],
      "text/plain": [
       "                     Date         Primary Type  Arrest  Domestic  \\\n",
       "0  10/08/2017 03:00:00 AM  Crim Sexual Assault   False     False   \n",
       "1  03/28/2017 02:00:00 PM             Burglary   False     False   \n",
       "2  09/09/2017 08:17:00 PM                Theft   False     False   \n",
       "3  08/26/2017 10:00:00 AM  Crim Sexual Assault   False     False   \n",
       "4  02/10/2013 12:00:00 AM  Crim Sexual Assault   False     False   \n",
       "\n",
       "   Community Area  Year Location Location Description  \n",
       "0            73.0  2017      NaN            Residence  \n",
       "1            70.0  2017      NaN                Other  \n",
       "2            42.0  2017      NaN            Residence  \n",
       "3            32.0  2017      NaN          Hotel/Motel  \n",
       "4            69.0  2013      NaN            Residence  "
      ]
     },
     "execution_count": 10,
     "metadata": {},
     "output_type": "execute_result"
    }
   ],
   "source": [
    "#merging the crimes_cleaned df with the location df \n",
    "crimes_cleaned = crimes_cleaned.merge(location, how='left', \n",
    "                                      left_on='Location Description',\n",
    "                                      right_on='Original Value')\n",
    "\n",
    "#removing the original value columns\n",
    "crimes_cleaned.drop(labels=['Location Description','Original Value'],axis=1,\n",
    "                    inplace=True)\n",
    "\n",
    "#renaming the new value column as Location Description\n",
    "crimes_cleaned.rename(columns={'New Value':'Location Description'}, inplace=True)\n",
    "\n",
    "#displaying the results\n",
    "crimes_cleaned.head()"
   ]
  },
  {
   "cell_type": "markdown",
   "metadata": {},
   "source": [
    "<a id=\"community_areas\">"
   ]
  },
  {
   "cell_type": "markdown",
   "metadata": {},
   "source": [
    "## Pulling in Community Area Names and Regions"
   ]
  },
  {
   "cell_type": "code",
   "execution_count": 11,
   "metadata": {},
   "outputs": [
    {
     "data": {
      "text/html": [
       "<div>\n",
       "<style scoped>\n",
       "    .dataframe tbody tr th:only-of-type {\n",
       "        vertical-align: middle;\n",
       "    }\n",
       "\n",
       "    .dataframe tbody tr th {\n",
       "        vertical-align: top;\n",
       "    }\n",
       "\n",
       "    .dataframe thead th {\n",
       "        text-align: right;\n",
       "    }\n",
       "</style>\n",
       "<table border=\"1\" class=\"dataframe\">\n",
       "  <thead>\n",
       "    <tr style=\"text-align: right;\">\n",
       "      <th></th>\n",
       "      <th>ID</th>\n",
       "      <th>Name</th>\n",
       "      <th>Region</th>\n",
       "    </tr>\n",
       "  </thead>\n",
       "  <tbody>\n",
       "    <tr>\n",
       "      <th>0</th>\n",
       "      <td>8</td>\n",
       "      <td>Near North Side</td>\n",
       "      <td>Central</td>\n",
       "    </tr>\n",
       "    <tr>\n",
       "      <th>1</th>\n",
       "      <td>32</td>\n",
       "      <td>Loop</td>\n",
       "      <td>Central</td>\n",
       "    </tr>\n",
       "    <tr>\n",
       "      <th>2</th>\n",
       "      <td>33</td>\n",
       "      <td>Near South Side</td>\n",
       "      <td>Central</td>\n",
       "    </tr>\n",
       "    <tr>\n",
       "      <th>3</th>\n",
       "      <td>5</td>\n",
       "      <td>North Center</td>\n",
       "      <td>North Side</td>\n",
       "    </tr>\n",
       "    <tr>\n",
       "      <th>4</th>\n",
       "      <td>6</td>\n",
       "      <td>Lake View</td>\n",
       "      <td>North Side</td>\n",
       "    </tr>\n",
       "  </tbody>\n",
       "</table>\n",
       "</div>"
      ],
      "text/plain": [
       "   ID             Name      Region\n",
       "0   8  Near North Side     Central\n",
       "1  32             Loop     Central\n",
       "2  33  Near South Side     Central\n",
       "3   5     North Center  North Side\n",
       "4   6        Lake View  North Side"
      ]
     },
     "execution_count": 11,
     "metadata": {},
     "output_type": "execute_result"
    }
   ],
   "source": [
    "#reading in the mapping of the Community Area ID to the Name and Region\n",
    "#values from Wikipedia\n",
    "community_areas = pd.read_csv('Community_Areas.csv')\n",
    "community_areas.head()"
   ]
  },
  {
   "cell_type": "code",
   "execution_count": 12,
   "metadata": {},
   "outputs": [
    {
     "data": {
      "text/html": [
       "<div>\n",
       "<style scoped>\n",
       "    .dataframe tbody tr th:only-of-type {\n",
       "        vertical-align: middle;\n",
       "    }\n",
       "\n",
       "    .dataframe tbody tr th {\n",
       "        vertical-align: top;\n",
       "    }\n",
       "\n",
       "    .dataframe thead th {\n",
       "        text-align: right;\n",
       "    }\n",
       "</style>\n",
       "<table border=\"1\" class=\"dataframe\">\n",
       "  <thead>\n",
       "    <tr style=\"text-align: right;\">\n",
       "      <th></th>\n",
       "      <th>Date</th>\n",
       "      <th>Primary Type</th>\n",
       "      <th>Arrest</th>\n",
       "      <th>Domestic</th>\n",
       "      <th>Year</th>\n",
       "      <th>Location</th>\n",
       "      <th>Location Description</th>\n",
       "      <th>Community Area</th>\n",
       "      <th>Region</th>\n",
       "    </tr>\n",
       "  </thead>\n",
       "  <tbody>\n",
       "    <tr>\n",
       "      <th>0</th>\n",
       "      <td>10/08/2017 03:00:00 AM</td>\n",
       "      <td>Crim Sexual Assault</td>\n",
       "      <td>False</td>\n",
       "      <td>False</td>\n",
       "      <td>2017</td>\n",
       "      <td>NaN</td>\n",
       "      <td>Residence</td>\n",
       "      <td>Washington Heights</td>\n",
       "      <td>Far Southwest Side</td>\n",
       "    </tr>\n",
       "    <tr>\n",
       "      <th>1</th>\n",
       "      <td>03/28/2017 02:00:00 PM</td>\n",
       "      <td>Burglary</td>\n",
       "      <td>False</td>\n",
       "      <td>False</td>\n",
       "      <td>2017</td>\n",
       "      <td>NaN</td>\n",
       "      <td>Other</td>\n",
       "      <td>Ashburn</td>\n",
       "      <td>Far Southwest Side</td>\n",
       "    </tr>\n",
       "    <tr>\n",
       "      <th>2</th>\n",
       "      <td>09/09/2017 08:17:00 PM</td>\n",
       "      <td>Theft</td>\n",
       "      <td>False</td>\n",
       "      <td>False</td>\n",
       "      <td>2017</td>\n",
       "      <td>NaN</td>\n",
       "      <td>Residence</td>\n",
       "      <td>Woodlawn</td>\n",
       "      <td>South Side</td>\n",
       "    </tr>\n",
       "    <tr>\n",
       "      <th>3</th>\n",
       "      <td>08/26/2017 10:00:00 AM</td>\n",
       "      <td>Crim Sexual Assault</td>\n",
       "      <td>False</td>\n",
       "      <td>False</td>\n",
       "      <td>2017</td>\n",
       "      <td>NaN</td>\n",
       "      <td>Hotel/Motel</td>\n",
       "      <td>Loop</td>\n",
       "      <td>Central</td>\n",
       "    </tr>\n",
       "    <tr>\n",
       "      <th>4</th>\n",
       "      <td>02/10/2013 12:00:00 AM</td>\n",
       "      <td>Crim Sexual Assault</td>\n",
       "      <td>False</td>\n",
       "      <td>False</td>\n",
       "      <td>2013</td>\n",
       "      <td>NaN</td>\n",
       "      <td>Residence</td>\n",
       "      <td>Greater Grand Crossing</td>\n",
       "      <td>South Side</td>\n",
       "    </tr>\n",
       "  </tbody>\n",
       "</table>\n",
       "</div>"
      ],
      "text/plain": [
       "                     Date         Primary Type  Arrest  Domestic  Year  \\\n",
       "0  10/08/2017 03:00:00 AM  Crim Sexual Assault   False     False  2017   \n",
       "1  03/28/2017 02:00:00 PM             Burglary   False     False  2017   \n",
       "2  09/09/2017 08:17:00 PM                Theft   False     False  2017   \n",
       "3  08/26/2017 10:00:00 AM  Crim Sexual Assault   False     False  2017   \n",
       "4  02/10/2013 12:00:00 AM  Crim Sexual Assault   False     False  2013   \n",
       "\n",
       "  Location Location Description          Community Area              Region  \n",
       "0      NaN            Residence      Washington Heights  Far Southwest Side  \n",
       "1      NaN                Other                 Ashburn  Far Southwest Side  \n",
       "2      NaN            Residence                Woodlawn          South Side  \n",
       "3      NaN          Hotel/Motel                    Loop             Central  \n",
       "4      NaN            Residence  Greater Grand Crossing          South Side  "
      ]
     },
     "execution_count": 12,
     "metadata": {},
     "output_type": "execute_result"
    }
   ],
   "source": [
    "#merging the community area df with the reduced crimes df\n",
    "crimes_cleaned = crimes_cleaned.merge(community_areas, how='left', \n",
    "                                      left_on='Community Area',\n",
    "                                      right_on='ID')\n",
    "\n",
    "#dropping the ID columns\n",
    "crimes_cleaned.drop(labels=['Community Area','ID'],axis=1,inplace=True)\n",
    "\n",
    "#renaming the Name column as Community Area\n",
    "crimes_cleaned.rename(columns={'Name':'Community Area'}, inplace=True)\n",
    "\n",
    "#displaying the results\n",
    "crimes_cleaned.head()"
   ]
  },
  {
   "cell_type": "markdown",
   "metadata": {},
   "source": [
    "<a id=\"date_columns\">"
   ]
  },
  {
   "cell_type": "markdown",
   "metadata": {},
   "source": [
    "## Creating New Datetime Columns based on the Date of the Crime"
   ]
  },
  {
   "cell_type": "code",
   "execution_count": 13,
   "metadata": {},
   "outputs": [],
   "source": [
    "#converting Date column to datetime data type (this takes a while)\n",
    "crimes_cleaned.Date = pd.to_datetime(crimes_cleaned.Date)"
   ]
  },
  {
   "cell_type": "code",
   "execution_count": 14,
   "metadata": {},
   "outputs": [],
   "source": [
    "#adding a column for the month of the crime\n",
    "crimes_cleaned['Month'] = crimes_cleaned.Date.dt.month\n",
    "\n",
    "#adding a column for the day of week of the crime\n",
    "crimes_cleaned['Day of Week'] = crimes_cleaned.Date.dt.day_name()\n",
    "\n",
    "#creating index vars for time of day (morning, afternoon, evening, and night)\n",
    "morning_idx   = (crimes_cleaned.Date.dt.time >= dt.time(5))  & (crimes_cleaned.Date.dt.time < dt.time(12)) # 5am to 12pm\n",
    "afternoon_idx = (crimes_cleaned.Date.dt.time >= dt.time(10)) & (crimes_cleaned.Date.dt.time < dt.time(17)) #12pm to  5pm\n",
    "evening_idx   = (crimes_cleaned.Date.dt.time >= dt.time(17)) & (crimes_cleaned.Date.dt.time < dt.time(20)) # 5pm to  8pm\n",
    "night_idx     = (crimes_cleaned.Date.dt.time >= dt.time(20)) | (crimes_cleaned.Date.dt.time < dt.time(5))  # 8pm to  5am\n",
    "\n",
    "#adding a column for the time of day of the crime\n",
    "crimes_cleaned['Time of Day'] = \"\"\n",
    "crimes_cleaned.loc[morning_idx,   'Time of Day'] = \"Morning\"\n",
    "crimes_cleaned.loc[afternoon_idx, 'Time of Day'] = \"Afternoon\"\n",
    "crimes_cleaned.loc[evening_idx,   'Time of Day'] = \"Evening\"\n",
    "crimes_cleaned.loc[night_idx,     'Time of Day'] = \"Night\""
   ]
  },
  {
   "cell_type": "code",
   "execution_count": 15,
   "metadata": {},
   "outputs": [
    {
     "data": {
      "text/html": [
       "<div>\n",
       "<style scoped>\n",
       "    .dataframe tbody tr th:only-of-type {\n",
       "        vertical-align: middle;\n",
       "    }\n",
       "\n",
       "    .dataframe tbody tr th {\n",
       "        vertical-align: top;\n",
       "    }\n",
       "\n",
       "    .dataframe thead th {\n",
       "        text-align: right;\n",
       "    }\n",
       "</style>\n",
       "<table border=\"1\" class=\"dataframe\">\n",
       "  <thead>\n",
       "    <tr style=\"text-align: right;\">\n",
       "      <th></th>\n",
       "      <th>Date</th>\n",
       "      <th>Primary Type</th>\n",
       "      <th>Arrest</th>\n",
       "      <th>Domestic</th>\n",
       "      <th>Year</th>\n",
       "      <th>Location</th>\n",
       "      <th>Location Description</th>\n",
       "      <th>Community Area</th>\n",
       "      <th>Region</th>\n",
       "      <th>Month</th>\n",
       "      <th>Day of Week</th>\n",
       "      <th>Time of Day</th>\n",
       "    </tr>\n",
       "  </thead>\n",
       "  <tbody>\n",
       "    <tr>\n",
       "      <th>0</th>\n",
       "      <td>2017-10-08 03:00:00</td>\n",
       "      <td>Crim Sexual Assault</td>\n",
       "      <td>False</td>\n",
       "      <td>False</td>\n",
       "      <td>2017</td>\n",
       "      <td>NaN</td>\n",
       "      <td>Residence</td>\n",
       "      <td>Washington Heights</td>\n",
       "      <td>Far Southwest Side</td>\n",
       "      <td>10</td>\n",
       "      <td>Sunday</td>\n",
       "      <td>Night</td>\n",
       "    </tr>\n",
       "    <tr>\n",
       "      <th>1</th>\n",
       "      <td>2017-03-28 14:00:00</td>\n",
       "      <td>Burglary</td>\n",
       "      <td>False</td>\n",
       "      <td>False</td>\n",
       "      <td>2017</td>\n",
       "      <td>NaN</td>\n",
       "      <td>Other</td>\n",
       "      <td>Ashburn</td>\n",
       "      <td>Far Southwest Side</td>\n",
       "      <td>3</td>\n",
       "      <td>Tuesday</td>\n",
       "      <td>Afternoon</td>\n",
       "    </tr>\n",
       "    <tr>\n",
       "      <th>2</th>\n",
       "      <td>2017-09-09 20:17:00</td>\n",
       "      <td>Theft</td>\n",
       "      <td>False</td>\n",
       "      <td>False</td>\n",
       "      <td>2017</td>\n",
       "      <td>NaN</td>\n",
       "      <td>Residence</td>\n",
       "      <td>Woodlawn</td>\n",
       "      <td>South Side</td>\n",
       "      <td>9</td>\n",
       "      <td>Saturday</td>\n",
       "      <td>Night</td>\n",
       "    </tr>\n",
       "    <tr>\n",
       "      <th>3</th>\n",
       "      <td>2017-08-26 10:00:00</td>\n",
       "      <td>Crim Sexual Assault</td>\n",
       "      <td>False</td>\n",
       "      <td>False</td>\n",
       "      <td>2017</td>\n",
       "      <td>NaN</td>\n",
       "      <td>Hotel/Motel</td>\n",
       "      <td>Loop</td>\n",
       "      <td>Central</td>\n",
       "      <td>8</td>\n",
       "      <td>Saturday</td>\n",
       "      <td>Afternoon</td>\n",
       "    </tr>\n",
       "    <tr>\n",
       "      <th>4</th>\n",
       "      <td>2013-02-10 00:00:00</td>\n",
       "      <td>Crim Sexual Assault</td>\n",
       "      <td>False</td>\n",
       "      <td>False</td>\n",
       "      <td>2013</td>\n",
       "      <td>NaN</td>\n",
       "      <td>Residence</td>\n",
       "      <td>Greater Grand Crossing</td>\n",
       "      <td>South Side</td>\n",
       "      <td>2</td>\n",
       "      <td>Sunday</td>\n",
       "      <td>Night</td>\n",
       "    </tr>\n",
       "  </tbody>\n",
       "</table>\n",
       "</div>"
      ],
      "text/plain": [
       "                 Date         Primary Type  Arrest  Domestic  Year Location  \\\n",
       "0 2017-10-08 03:00:00  Crim Sexual Assault   False     False  2017      NaN   \n",
       "1 2017-03-28 14:00:00             Burglary   False     False  2017      NaN   \n",
       "2 2017-09-09 20:17:00                Theft   False     False  2017      NaN   \n",
       "3 2017-08-26 10:00:00  Crim Sexual Assault   False     False  2017      NaN   \n",
       "4 2013-02-10 00:00:00  Crim Sexual Assault   False     False  2013      NaN   \n",
       "\n",
       "  Location Description          Community Area              Region  Month  \\\n",
       "0            Residence      Washington Heights  Far Southwest Side     10   \n",
       "1                Other                 Ashburn  Far Southwest Side      3   \n",
       "2            Residence                Woodlawn          South Side      9   \n",
       "3          Hotel/Motel                    Loop             Central      8   \n",
       "4            Residence  Greater Grand Crossing          South Side      2   \n",
       "\n",
       "  Day of Week Time of Day  \n",
       "0      Sunday       Night  \n",
       "1     Tuesday   Afternoon  \n",
       "2    Saturday       Night  \n",
       "3    Saturday   Afternoon  \n",
       "4      Sunday       Night  "
      ]
     },
     "execution_count": 15,
     "metadata": {},
     "output_type": "execute_result"
    }
   ],
   "source": [
    "crimes_cleaned.head()"
   ]
  },
  {
   "cell_type": "markdown",
   "metadata": {},
   "source": [
    "<a id=\"saving\">"
   ]
  },
  {
   "cell_type": "markdown",
   "metadata": {},
   "source": [
    "<a id=\"nulls\">"
   ]
  },
  {
   "cell_type": "markdown",
   "metadata": {},
   "source": [
    "## Dropping Nulls from the Dataset\n",
    "Because of the relatively small number of rows with null values, I'm going to drop all rows with nulls."
   ]
  },
  {
   "cell_type": "code",
   "execution_count": 16,
   "metadata": {
    "scrolled": true
   },
   "outputs": [
    {
     "name": "stdout",
     "output_type": "stream",
     "text": [
      "Number of Rows: 3,007,770\n",
      "\n",
      "Date has 0 nulls\n",
      "Primary Type has 0 nulls\n",
      "Arrest has 0 nulls\n",
      "Domestic has 0 nulls\n",
      "Year has 0 nulls\n",
      "Location has 22,340 nulls\n",
      "Location Description has 6,199 nulls\n",
      "Community Area has 431 nulls\n",
      "Region has 431 nulls\n",
      "Month has 0 nulls\n",
      "Day of Week has 0 nulls\n",
      "Time of Day has 0 nulls\n"
     ]
    }
   ],
   "source": [
    "print(\"Number of Rows: {:,d}\".format(crimes_cleaned.shape[0]))\n",
    "print()\n",
    "for col in crimes_cleaned.columns:\n",
    "    print(\"{} has {:,d} nulls\".format(col,crimes_cleaned[col].isna().sum()))"
   ]
  },
  {
   "cell_type": "code",
   "execution_count": 19,
   "metadata": {},
   "outputs": [
    {
     "name": "stdout",
     "output_type": "stream",
     "text": [
      "Number of Rows: 2,980,876\n",
      "\n",
      "Date has 0 nulls\n",
      "Primary Type has 0 nulls\n",
      "Arrest has 0 nulls\n",
      "Domestic has 0 nulls\n",
      "Year has 0 nulls\n",
      "Location has 0 nulls\n",
      "Location Description has 0 nulls\n",
      "Community Area has 0 nulls\n",
      "Region has 0 nulls\n",
      "Month has 0 nulls\n",
      "Day of Week has 0 nulls\n",
      "Time of Day has 0 nulls\n"
     ]
    }
   ],
   "source": [
    "crimes_cleaned.dropna(inplace=True,axis=0)\n",
    "\n",
    "print(\"Number of Rows: {:,d}\".format(crimes_cleaned.shape[0]))\n",
    "print()\n",
    "for col in crimes_cleaned.columns:\n",
    "    print(\"{} has {:,d} nulls\".format(col,crimes_cleaned[col].isna().sum()))"
   ]
  },
  {
   "cell_type": "markdown",
   "metadata": {},
   "source": [
    "## Saving the Cleaned Dataset"
   ]
  },
  {
   "cell_type": "code",
   "execution_count": 20,
   "metadata": {},
   "outputs": [],
   "source": [
    "crimes_cleaned.to_csv(\"crimes_cleaned.csv\")"
   ]
  }
 ],
 "metadata": {
  "kernelspec": {
   "display_name": "Python 3",
   "language": "python",
   "name": "python3"
  },
  "language_info": {
   "codemirror_mode": {
    "name": "ipython",
    "version": 3
   },
   "file_extension": ".py",
   "mimetype": "text/x-python",
   "name": "python",
   "nbconvert_exporter": "python",
   "pygments_lexer": "ipython3",
   "version": "3.7.3"
  }
 },
 "nbformat": 4,
 "nbformat_minor": 2
}
